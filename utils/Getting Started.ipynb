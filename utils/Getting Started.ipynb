{
 "cells": [
  {
   "cell_type": "markdown",
   "metadata": {},
   "source": [
    "## Importações"
   ]
  },
  {
   "cell_type": "code",
   "execution_count": 1,
   "metadata": {},
   "outputs": [
    {
     "name": "stderr",
     "output_type": "stream",
     "text": [
      "Using TensorFlow backend.\n"
     ]
    }
   ],
   "source": [
    "import os\n",
    "\n",
    "\n",
    "CUDA_VISIBLE_DEVICES = 1\n",
    "\n",
    "os.environ['CUDA_VISIBLE_DEVICES'] = '1'\n",
    "\n",
    "import tensorflow as tf\n",
    "\n",
    "os.environ['KERAS_BACKEND'] = 'tensorflow' # gpu = 1\n",
    "\n",
    "# Using around 60% of each GPU\n",
    "gpu_options = tf.GPUOptions(per_process_gpu_memory_fraction=0.6)\n",
    "\n",
    "sess = tf.Session(config=tf.ConfigProto(gpu_options=gpu_options))\n",
    "\n",
    "import sys\n",
    "import random\n",
    "import warnings\n",
    "\n",
    "import numpy as np\n",
    "import pandas as pd\n",
    "\n",
    "import matplotlib.pyplot as plt\n",
    "\n",
    "from tqdm import tqdm, tqdm_notebook\n",
    "from itertools import chain\n",
    "from skimage.io import imread, imshow, imread_collection, concatenate_images\n",
    "from skimage.transform import resize\n",
    "from skimage.morphology import label\n",
    "\n",
    "from keras.models import Model, load_model\n",
    "from keras.layers import Input\n",
    "from keras.layers.core import Dropout, Lambda\n",
    "from keras.layers.convolutional import Conv2D, Conv2DTranspose\n",
    "from keras.layers.pooling import MaxPooling2D\n",
    "from keras.layers.merge import concatenate\n",
    "from keras.callbacks import EarlyStopping, ModelCheckpoint\n",
    "from keras import backend as K\n",
    "\n",
    "#import tensorflow as tf\n",
    "\n",
    "# Set some parameters\n",
    "IMG_WIDTH = 256\n",
    "IMG_HEIGHT = 256\n",
    "IMG_CHANNELS = 3\n",
    "TRAIN_PATH = '../../Inputs/stage1_train/'\n",
    "TEST_PATH = '../../Inputs/stage1_test/'\n",
    "\n",
    "warnings.filterwarnings('ignore', category=UserWarning, module='skimage')\n",
    "seed = 42\n",
    "random.seed = seed\n",
    "np.random.seed = seed"
   ]
  },
  {
   "cell_type": "code",
   "execution_count": 75,
   "metadata": {
    "collapsed": true
   },
   "outputs": [],
   "source": [
    "from ipywidgets import interact, fixed"
   ]
  },
  {
   "cell_type": "code",
   "execution_count": 2,
   "metadata": {
    "collapsed": true
   },
   "outputs": [],
   "source": [
    "K.set_image_dim_ordering('tf')"
   ]
  },
  {
   "cell_type": "code",
   "execution_count": 3,
   "metadata": {},
   "outputs": [
    {
     "data": {
      "text/plain": [
       "'tf'"
      ]
     },
     "execution_count": 3,
     "metadata": {},
     "output_type": "execute_result"
    }
   ],
   "source": [
    "K.image_dim_ordering()"
   ]
  },
  {
   "cell_type": "markdown",
   "metadata": {},
   "source": [
    "### Leitura de dados\n",
    "\n",
    "Ler as imagens, e converte-las em um numpy array, de tamanho 128, 128.\n",
    "\n",
    "Copiado do Kaggle."
   ]
  },
  {
   "cell_type": "code",
   "execution_count": 4,
   "metadata": {
    "collapsed": true
   },
   "outputs": [],
   "source": [
    "# Get train and test IDs\n",
    "train_ids = next(os.walk(TRAIN_PATH))[1]\n",
    "test_ids = next(os.walk(TEST_PATH))[1]"
   ]
  },
  {
   "cell_type": "code",
   "execution_count": 5,
   "metadata": {},
   "outputs": [
    {
     "name": "stdout",
     "output_type": "stream",
     "text": [
      "Getting and resizing train images and masks ... \n"
     ]
    },
    {
     "name": "stderr",
     "output_type": "stream",
     "text": [
      "100%|██████████| 670/670 [01:29<00:00,  9.09it/s]"
     ]
    },
    {
     "name": "stdout",
     "output_type": "stream",
     "text": [
      "Getting and resizing test images ... \n"
     ]
    },
    {
     "name": "stderr",
     "output_type": "stream",
     "text": [
      "\n",
      "100%|██████████| 65/65 [00:00<00:00, 92.06it/s]"
     ]
    },
    {
     "name": "stdout",
     "output_type": "stream",
     "text": [
      "Done!\n"
     ]
    },
    {
     "name": "stderr",
     "output_type": "stream",
     "text": [
      "\n"
     ]
    }
   ],
   "source": [
    "# Get and resize train images and masks\n",
    "X_train = np.zeros((len(train_ids), IMG_HEIGHT, IMG_WIDTH, IMG_CHANNELS), dtype=np.uint8)\n",
    "Y_train = np.zeros((len(train_ids), IMG_HEIGHT, IMG_WIDTH, 1), dtype=np.bool)\n",
    "print('Getting and resizing train images and masks ... ')\n",
    "sys.stdout.flush()\n",
    "for n, id_ in tqdm(enumerate(train_ids), total=len(train_ids)):\n",
    "    path = TRAIN_PATH + id_\n",
    "    img = imread(path + '/images/' + id_ + '.png')[:,:,:IMG_CHANNELS]\n",
    "    img = resize(img, (IMG_HEIGHT, IMG_WIDTH), mode='constant', preserve_range=True)\n",
    "    X_train[n] = img\n",
    "    mask = np.zeros((IMG_HEIGHT, IMG_WIDTH, 1), dtype=np.bool)\n",
    "    for mask_file in next(os.walk(path + '/masks/'))[2]:\n",
    "        mask_ = imread(path + '/masks/' + mask_file)\n",
    "        mask_ = np.expand_dims(resize(mask_, (IMG_HEIGHT, IMG_WIDTH), mode='constant', \n",
    "                                      preserve_range=True), axis=-1)\n",
    "        mask = np.maximum(mask, mask_)\n",
    "    Y_train[n] = mask\n",
    "\n",
    "#Get and resize test images\n",
    "X_test = np.zeros((len(test_ids), IMG_HEIGHT, IMG_WIDTH, IMG_CHANNELS), dtype=np.uint8)\n",
    "sizes_test = []\n",
    "print('Getting and resizing test images ... ')\n",
    "sys.stdout.flush()\n",
    "for n, id_ in tqdm(enumerate(test_ids), total=len(test_ids)):\n",
    "    path = TEST_PATH + id_\n",
    "    img = imread(path + '/images/' + id_ + '.png')[:,:,:IMG_CHANNELS]\n",
    "    sizes_test.append([img.shape[0], img.shape[1]])\n",
    "    img = resize(img, (IMG_HEIGHT, IMG_WIDTH), mode='constant', preserve_range=True)\n",
    "    X_test[n] = img\n",
    "\n",
    "print('Done!')"
   ]
  },
  {
   "cell_type": "markdown",
   "metadata": {},
   "source": [
    "#### Breve análise de Imagens"
   ]
  },
  {
   "cell_type": "code",
   "execution_count": 6,
   "metadata": {
    "collapsed": true
   },
   "outputs": [],
   "source": [
    "# Função para converter a imagem RGB em Greyscale\n",
    "\n",
    "def rgb2gray(rgb):\n",
    "\n",
    "    r, g, b = rgb[:,:,0], rgb[:,:,1], rgb[:,:,2]\n",
    "    gray = 0.2989 * r + 0.5870 * g + 0.1140 * b\n",
    "\n",
    "    return gray"
   ]
  },
  {
   "cell_type": "markdown",
   "metadata": {},
   "source": [
    "Alguma imagens são mais claras, e os nucleos da imagem são mais escuros... E outras o inverso"
   ]
  },
  {
   "cell_type": "code",
   "execution_count": 7,
   "metadata": {
    "collapsed": true
   },
   "outputs": [],
   "source": [
    "from image_proc import binarize, crop_resize\n",
    "from evaluation import dice_coef_loss, dice_coef, recall, dice\n",
    "from pre_train import data_augmentation, pre_reshape\n",
    "from model import *\n",
    "from keras import Model as keras_model\n",
    "from skimage.filters import threshold_otsu"
   ]
  },
  {
   "cell_type": "code",
   "execution_count": 8,
   "metadata": {
    "collapsed": true
   },
   "outputs": [],
   "source": [
    "dict_ = {'Clara' : [],\n",
    "        'Escura' : []}\n",
    "for i, j in enumerate(X_train):\n",
    "    if (np.mean(j) > 80):\n",
    "        dict_['Clara'].append(i)\n",
    "    else:\n",
    "        dict_['Escura'].append(i)\n",
    "dict_['Clara'] = np.array(dict_['Clara'])\n",
    "dict_['Escura'] = np.array(dict_['Escura'])"
   ]
  },
  {
   "cell_type": "code",
   "execution_count": 9,
   "metadata": {},
   "outputs": [
    {
     "name": "stdout",
     "output_type": "stream",
     "text": [
      "Escuras\n"
     ]
    },
    {
     "data": {
      "image/png": "[encoded data removed]",
      "text/plain": [
       "<matplotlib.figure.Figure at 0x7f9cc8100990>"
      ]
     },
     "metadata": {},
     "output_type": "display_data"
    },
    {
     "name": "stdout",
     "output_type": "stream",
     "text": [
      "Claras\n"
     ]
    },
    {
     "data": {
      "image/png": "[encoded data removed]",
      "text/plain": [
       "<matplotlib.figure.Figure at 0x7f9c5c984bd0>"
      ]
     },
     "metadata": {},
     "output_type": "display_data"
    }
   ],
   "source": [
    "# Check if training data looks all right\n",
    "ix = random.randint(0, len(train_ids))\n",
    "ix = 471\n",
    "\n",
    "print ('Escuras')\n",
    "plt.figure(figsize=(12,8))\n",
    "plt.subplot(231)\n",
    "imshow(X_train[dict_['Escura']][ix], cmap='gray')\n",
    "plt.subplot(232)\n",
    "imshow(binarize(rgb2gray(X_train[dict_['Escura']][ix]), threshold=threshold_otsu(rgb2gray(X_train[dict_['Escura']][ix]))/1.5), cmap='gray')\n",
    "plt.subplot(233)\n",
    "imshow(np.squeeze(Y_train[dict_['Escura']][ix]))\n",
    "plt.show()\n",
    "\n",
    "print ('Claras')\n",
    "ix = 0\n",
    "plt.figure(figsize=(12,8))\n",
    "plt.subplot(231)\n",
    "imshow(X_train[ix])\n",
    "plt.subplot(232)\n",
    "imshow(1 - binarize(rgb2gray(X_train[ix]), threshold=threshold_otsu(rgb2gray(X_train[ix]))*1.1), cmap='gray')\n",
    "plt.subplot(233)\n",
    "imshow(np.squeeze(Y_train[ix]))\n",
    "plt.show()\n",
    "plt.show()"
   ]
  },
  {
   "cell_type": "markdown",
   "metadata": {},
   "source": [
    "Pode se ver ter uma noção pela média das intensidades de pixels nas imagens"
   ]
  },
  {
   "cell_type": "code",
   "execution_count": 201,
   "metadata": {
    "collapsed": true
   },
   "outputs": [],
   "source": [
    "dict_test = {'Clara' : [],\n",
    "        'Escura' : []}\n",
    "for i, j in enumerate(X_test):\n",
    "    if (np.mean(j) > 80):\n",
    "        dict_test['Clara'].append(i)\n",
    "    else:\n",
    "        dict_test['Escura'].append(i)\n",
    "dict_test['Clara'] = np.array(dict_test['Clara'])\n",
    "dict_test['Escura'] = np.array(dict_test['Escura'])"
   ]
  },
  {
   "cell_type": "markdown",
   "metadata": {},
   "source": [
    "Com um threshold, conseguimos conseguir um bom resultado para muitas das imagens..."
   ]
  },
  {
   "cell_type": "code",
   "execution_count": 11,
   "metadata": {},
   "outputs": [
    {
     "name": "stdout",
     "output_type": "stream",
     "text": [
      "Average dice:  0.898615053523\n",
      "Worst dice:  6.09198532319e-07\n",
      "Best dice:  0.992927274435\n",
      "Median:  0.920282169253\n"
     ]
    }
   ],
   "source": [
    "dices = []\n",
    "for img, ev in zip(X_train[dict_['Escura']], Y_train[dict_['Escura']]):\n",
    "    dices.append(dice(binarize(rgb2gray(img), threshold=threshold_otsu(rgb2gray(img))/1.5), np.squeeze(ev)))\n",
    "dices = np.array(dices)\n",
    "print 'Average dice: ', np.mean(dices)\n",
    "print 'Worst dice: ', np.min(dices)\n",
    "print 'Best dice: ', np.max(dices)\n",
    "print 'Median: ', np.median(dices)"
   ]
  },
  {
   "cell_type": "code",
   "execution_count": 12,
   "metadata": {},
   "outputs": [
    {
     "name": "stdout",
     "output_type": "stream",
     "text": [
      "Average dice:  0.75315466615\n",
      "Worst dice:  0.0992995437025\n",
      "Best dice:  0.927416555337\n",
      "Median:  0.860757829519\n"
     ]
    }
   ],
   "source": [
    "dices_claras = []\n",
    "for img, ev in zip(X_train[dict_['Clara']], Y_train[dict_['Clara']]):\n",
    "    dices_claras.append(dice(1 - binarize(rgb2gray(img), threshold=threshold_otsu(rgb2gray(img))), np.squeeze(ev)))\n",
    "dices_claras = np.array(dices_claras)\n",
    "print 'Average dice: ', np.mean(dices_claras)\n",
    "print 'Worst dice: ', np.min(dices_claras)\n",
    "print 'Best dice: ', np.max(dices_claras)\n",
    "print 'Median: ', np.median(dices_claras)"
   ]
  },
  {
   "cell_type": "code",
   "execution_count": 13,
   "metadata": {
    "collapsed": true
   },
   "outputs": [],
   "source": [
    "predictions = np.zeros(np.squeeze(Y_train).shape)\n",
    "for i, img in enumerate(X_train):\n",
    "    if (i in dict_['Escura']):\n",
    "        predictions[i] = binarize(rgb2gray(X_train[ix]), threshold=threshold_otsu(rgb2gray(X_train[ix]))/1.5)\n",
    "    else:\n",
    "        predictions[i] = binarize(1 - rgb2gray(X_train[ix]), threshold=threshold_otsu(rgb2gray(X_train[ix])))"
   ]
  },
  {
   "cell_type": "code",
   "execution_count": 14,
   "metadata": {},
   "outputs": [
    {
     "data": {
      "text/plain": [
       "(array([110, 151, 293, 370, 442, 471, 489]),)"
      ]
     },
     "execution_count": 14,
     "metadata": {},
     "output_type": "execute_result"
    }
   ],
   "source": [
    "np.where(dices < 0.5)"
   ]
  },
  {
   "cell_type": "markdown",
   "metadata": {},
   "source": [
    "### Vamos agora ver como fica com um modelo de deep learning"
   ]
  },
  {
   "cell_type": "code",
   "execution_count": 15,
   "metadata": {
    "collapsed": true
   },
   "outputs": [],
   "source": [
    "from evaluation import *\n",
    "from sklearn.model_selection import train_test_split"
   ]
  },
  {
   "cell_type": "code",
   "execution_count": 286,
   "metadata": {
    "collapsed": true
   },
   "outputs": [],
   "source": [
    "X_tr, X_te, y_tr, y_te = train_test_split(X_train, Y_train, test_size = 0.25, random_state=42)"
   ]
  },
  {
   "cell_type": "code",
   "execution_count": 16,
   "metadata": {
    "collapsed": true
   },
   "outputs": [],
   "source": [
    "def get_unet(IMG_WIDTH=256,IMG_HEIGHT=256,IMG_CHANNELS=3):\n",
    "    inputs = Input((IMG_WIDTH, IMG_HEIGHT, IMG_CHANNELS))\n",
    "    s = Lambda(lambda x: x / 255) (inputs)\n",
    "    c1 = Conv2D(16, (3, 3), activation='elu', kernel_initializer='he_normal', padding='same') (s)\n",
    "    c1 = Dropout(0.1) (c1)\n",
    "    c1 = Conv2D(16, (3, 3), activation='elu', kernel_initializer='he_normal', padding='same') (c1)\n",
    "    p1 = MaxPooling2D((2, 2)) (c1)\n",
    "    c2 = Conv2D(32, (3, 3), activation='elu', kernel_initializer='he_normal', padding='same') (p1)\n",
    "    c2 = Dropout(0.1) (c2)\n",
    "    c2 = Conv2D(32, (3, 3), activation='elu', kernel_initializer='he_normal', padding='same') (c2)\n",
    "    p2 = MaxPooling2D((2, 2)) (c2)\n",
    "\n",
    "    c3 = Conv2D(64, (3, 3), activation='elu', kernel_initializer='he_normal', padding='same') (p2)\n",
    "    c3 = Dropout(0.2) (c3)\n",
    "    c3 = Conv2D(64, (3, 3), activation='elu', kernel_initializer='he_normal', padding='same') (c3)\n",
    "    p3 = MaxPooling2D((2, 2)) (c3)\n",
    "\n",
    "    c4 = Conv2D(128, (3, 3), activation='elu', kernel_initializer='he_normal', padding='same') (p3)\n",
    "    c4 = Dropout(0.2) (c4)\n",
    "    c4 = Conv2D(128, (3, 3), activation='elu', kernel_initializer='he_normal', padding='same') (c4)\n",
    "    p4 = MaxPooling2D(pool_size=(2, 2)) (c4)\n",
    "\n",
    "    c5 = Conv2D(256, (3, 3), activation='elu', kernel_initializer='he_normal', padding='same') (p4)\n",
    "    c5 = Dropout(0.3) (c5)\n",
    "    c5 = Conv2D(256, (3, 3), activation='elu', kernel_initializer='he_normal', padding='same') (c5)\n",
    "\n",
    "    u6 = Conv2DTranspose(128, (2, 2), strides=(2, 2), padding='same') (c5)\n",
    "    u6 = concatenate([u6, c4])\n",
    "    c6 = Conv2D(128, (3, 3), activation='elu', kernel_initializer='he_normal', padding='same') (u6)\n",
    "    c6 = Dropout(0.2) (c6)\n",
    "    c6 = Conv2D(128, (3, 3), activation='elu', kernel_initializer='he_normal', padding='same') (c6)\n",
    "\n",
    "    u7 = Conv2DTranspose(64, (2, 2), strides=(2, 2), padding='same') (c6)\n",
    "    u7 = concatenate([u7, c3])\n",
    "    c7 = Conv2D(64, (3, 3), activation='elu', kernel_initializer='he_normal', padding='same') (u7)\n",
    "    c7 = Dropout(0.2) (c7)\n",
    "    c7 = Conv2D(64, (3, 3), activation='elu', kernel_initializer='he_normal', padding='same') (c7)\n",
    "\n",
    "    u8 = Conv2DTranspose(32, (2, 2), strides=(2, 2), padding='same') (c7)\n",
    "    u8 = concatenate([u8, c2])\n",
    "    c8 = Conv2D(32, (3, 3), activation='elu', kernel_initializer='he_normal', padding='same') (u8)\n",
    "    c8 = Dropout(0.1) (c8)\n",
    "    c8 = Conv2D(32, (3, 3), activation='elu', kernel_initializer='he_normal', padding='same') (c8)\n",
    "\n",
    "    u9 = Conv2DTranspose(16, (2, 2), strides=(2, 2), padding='same') (c8)\n",
    "    u9 = concatenate([u9, c1], axis=3)\n",
    "    c9 = Conv2D(16, (3, 3), activation='elu', kernel_initializer='he_normal', padding='same') (u9)\n",
    "    c9 = Dropout(0.1) (c9)\n",
    "    c9 = Conv2D(16, (3, 3), activation='elu', kernel_initializer='he_normal', padding='same') (c9)\n",
    "\n",
    "    outputs = Conv2D(1, (1, 1), activation='sigmoid', data_format=\"channels_last\") (c9)\n",
    "\n",
    "    model = keras_Model(inputs=[inputs], outputs=[outputs])\n",
    "    model.compile(optimizer='adam',loss=dice_coef_loss, metrics=[dice_coef])\n",
    "    return model"
   ]
  },
  {
   "cell_type": "code",
   "execution_count": 134,
   "metadata": {
    "collapsed": true
   },
   "outputs": [],
   "source": [
    "model = get_unet(IMG_WIDTH=128, IMG_HEIGHT=128)"
   ]
  },
  {
   "cell_type": "code",
   "execution_count": 136,
   "metadata": {},
   "outputs": [
    {
     "name": "stdout",
     "output_type": "stream",
     "text": [
      "Train on 502 samples, validate on 168 samples\n",
      "Epoch 1/120\n",
      "480/502 [===========================>..] - ETA: 0s - loss: -0.7834 - dice_coef: 0.7834Epoch 00001: val_loss improved from inf to -0.80732, saving model to model_with_dice.h5\n",
      "502/502 [==============================] - 4s 9ms/step - loss: -0.7853 - dice_coef: 0.7853 - val_loss: -0.8073 - val_dice_coef: 0.8073\n",
      "Epoch 2/120\n",
      "480/502 [===========================>..] - ETA: 0s - loss: -0.7894 - dice_coef: 0.7894Epoch 00002: val_loss did not improve\n",
      "502/502 [==============================] - 4s 8ms/step - loss: -0.7907 - dice_coef: 0.7907 - val_loss: -0.8069 - val_dice_coef: 0.8069\n",
      "Epoch 3/120\n",
      "480/502 [===========================>..] - ETA: 0s - loss: -0.7850 - dice_coef: 0.7850Epoch 00003: val_loss improved from -0.80732 to -0.80849, saving model to model_with_dice.h5\n",
      "502/502 [==============================] - 4s 9ms/step - loss: -0.7858 - dice_coef: 0.7858 - val_loss: -0.8085 - val_dice_coef: 0.8085\n",
      "Epoch 4/120\n",
      "480/502 [===========================>..] - ETA: 0s - loss: -0.7924 - dice_coef: 0.7924Epoch 00004: val_loss did not improve\n",
      "502/502 [==============================] - 4s 8ms/step - loss: -0.7914 - dice_coef: 0.7914 - val_loss: -0.8072 - val_dice_coef: 0.8072\n",
      "Epoch 5/120\n",
      "480/502 [===========================>..] - ETA: 0s - loss: -0.7971 - dice_coef: 0.7971Epoch 00005: val_loss did not improve\n",
      "502/502 [==============================] - 4s 8ms/step - loss: -0.7847 - dice_coef: 0.7847 - val_loss: -0.8073 - val_dice_coef: 0.8073\n",
      "Epoch 6/120\n",
      "480/502 [===========================>..] - ETA: 0s - loss: -0.7837 - dice_coef: 0.7837Epoch 00006: val_loss did not improve\n",
      "502/502 [==============================] - 4s 8ms/step - loss: -0.7855 - dice_coef: 0.7855 - val_loss: -0.8082 - val_dice_coef: 0.8082\n",
      "Epoch 7/120\n",
      "480/502 [===========================>..] - ETA: 0s - loss: -0.7968 - dice_coef: 0.7968Epoch 00007: val_loss improved from -0.80849 to -0.80883, saving model to model_with_dice.h5\n",
      "502/502 [==============================] - 4s 9ms/step - loss: -0.7921 - dice_coef: 0.7921 - val_loss: -0.8088 - val_dice_coef: 0.8088\n",
      "Epoch 8/120\n",
      "480/502 [===========================>..] - ETA: 0s - loss: -0.7889 - dice_coef: 0.7889Epoch 00008: val_loss did not improve\n",
      "502/502 [==============================] - 4s 8ms/step - loss: -0.7916 - dice_coef: 0.7916 - val_loss: -0.8085 - val_dice_coef: 0.8085\n",
      "Epoch 9/120\n",
      "480/502 [===========================>..] - ETA: 0s - loss: -0.7887 - dice_coef: 0.7887Epoch 00009: val_loss improved from -0.80883 to -0.80939, saving model to model_with_dice.h5\n",
      "502/502 [==============================] - 4s 9ms/step - loss: -0.7911 - dice_coef: 0.7911 - val_loss: -0.8094 - val_dice_coef: 0.8094\n",
      "Epoch 10/120\n",
      "480/502 [===========================>..] - ETA: 0s - loss: -0.7958 - dice_coef: 0.7958Epoch 00010: val_loss did not improve\n",
      "502/502 [==============================] - 4s 8ms/step - loss: -0.7938 - dice_coef: 0.7938 - val_loss: -0.8091 - val_dice_coef: 0.8091\n",
      "Epoch 11/120\n",
      "480/502 [===========================>..] - ETA: 0s - loss: -0.7866 - dice_coef: 0.7866Epoch 00011: val_loss did not improve\n",
      "502/502 [==============================] - 4s 8ms/step - loss: -0.7879 - dice_coef: 0.7879 - val_loss: -0.8090 - val_dice_coef: 0.8090\n",
      "Epoch 12/120\n",
      "480/502 [===========================>..] - ETA: 0s - loss: -0.7918 - dice_coef: 0.7918Epoch 00012: val_loss did not improve\n",
      "502/502 [==============================] - 4s 8ms/step - loss: -0.7915 - dice_coef: 0.7915 - val_loss: -0.8089 - val_dice_coef: 0.8089\n",
      "Epoch 13/120\n",
      "480/502 [===========================>..] - ETA: 0s - loss: -0.7958 - dice_coef: 0.7958Epoch 00013: val_loss did not improve\n",
      "502/502 [==============================] - 4s 8ms/step - loss: -0.7919 - dice_coef: 0.7919 - val_loss: -0.8076 - val_dice_coef: 0.8076\n",
      "Epoch 14/120\n",
      "480/502 [===========================>..] - ETA: 0s - loss: -0.7943 - dice_coef: 0.7943Epoch 00014: val_loss did not improve\n",
      "502/502 [==============================] - 4s 8ms/step - loss: -0.7930 - dice_coef: 0.7930 - val_loss: -0.8091 - val_dice_coef: 0.8091\n",
      "Epoch 15/120\n",
      "480/502 [===========================>..] - ETA: 0s - loss: -0.7912 - dice_coef: 0.7912Epoch 00015: val_loss did not improve\n",
      "502/502 [==============================] - 4s 8ms/step - loss: -0.7932 - dice_coef: 0.7932 - val_loss: -0.8087 - val_dice_coef: 0.8087\n",
      "Epoch 16/120\n",
      "480/502 [===========================>..] - ETA: 0s - loss: -0.7923 - dice_coef: 0.7923Epoch 00016: val_loss did not improve\n",
      "502/502 [==============================] - 4s 8ms/step - loss: -0.7896 - dice_coef: 0.7896 - val_loss: -0.8088 - val_dice_coef: 0.8088\n",
      "Epoch 17/120\n",
      "480/502 [===========================>..] - ETA: 0s - loss: -0.7932 - dice_coef: 0.7932Epoch 00017: val_loss did not improve\n",
      "502/502 [==============================] - 4s 8ms/step - loss: -0.7926 - dice_coef: 0.7926 - val_loss: -0.8077 - val_dice_coef: 0.8077\n",
      "Epoch 18/120\n",
      "480/502 [===========================>..] - ETA: 0s - loss: -0.7918 - dice_coef: 0.7918Epoch 00018: val_loss improved from -0.80939 to -0.80984, saving model to model_with_dice.h5\n",
      "502/502 [==============================] - 4s 9ms/step - loss: -0.7918 - dice_coef: 0.7918 - val_loss: -0.8098 - val_dice_coef: 0.8098\n",
      "Epoch 19/120\n",
      "480/502 [===========================>..] - ETA: 0s - loss: -0.7869 - dice_coef: 0.7869Epoch 00019: val_loss did not improve\n",
      "502/502 [==============================] - 4s 8ms/step - loss: -0.7902 - dice_coef: 0.7902 - val_loss: -0.8093 - val_dice_coef: 0.8093\n",
      "Epoch 20/120\n",
      "480/502 [===========================>..] - ETA: 0s - loss: -0.7900 - dice_coef: 0.7900Epoch 00020: val_loss improved from -0.80984 to -0.81021, saving model to model_with_dice.h5\n",
      "502/502 [==============================] - 4s 9ms/step - loss: -0.7928 - dice_coef: 0.7928 - val_loss: -0.8102 - val_dice_coef: 0.8102\n",
      "Epoch 21/120\n",
      "480/502 [===========================>..] - ETA: 0s - loss: -0.7883 - dice_coef: 0.7883Epoch 00021: val_loss did not improve\n",
      "502/502 [==============================] - 4s 8ms/step - loss: -0.7904 - dice_coef: 0.7904 - val_loss: -0.8082 - val_dice_coef: 0.8082\n",
      "Epoch 22/120\n",
      "480/502 [===========================>..] - ETA: 0s - loss: -0.7873 - dice_coef: 0.7873Epoch 00022: val_loss did not improve\n",
      "502/502 [==============================] - 4s 8ms/step - loss: -0.7914 - dice_coef: 0.7914 - val_loss: -0.8088 - val_dice_coef: 0.8088\n",
      "Epoch 23/120\n",
      "480/502 [===========================>..] - ETA: 0s - loss: -0.7896 - dice_coef: 0.7896Epoch 00023: val_loss did not improve\n",
      "502/502 [==============================] - 4s 8ms/step - loss: -0.7929 - dice_coef: 0.7929 - val_loss: -0.8093 - val_dice_coef: 0.8093\n",
      "Epoch 24/120\n",
      "480/502 [===========================>..] - ETA: 0s - loss: -0.7895 - dice_coef: 0.7895Epoch 00024: val_loss improved from -0.81021 to -0.81042, saving model to model_with_dice.h5\n",
      "502/502 [==============================] - 4s 9ms/step - loss: -0.7925 - dice_coef: 0.7925 - val_loss: -0.8104 - val_dice_coef: 0.8104\n",
      "Epoch 25/120\n",
      "480/502 [===========================>..] - ETA: 0s - loss: -0.7940 - dice_coef: 0.7940Epoch 00025: val_loss did not improve\n",
      "502/502 [==============================] - 4s 8ms/step - loss: -0.7928 - dice_coef: 0.7928 - val_loss: -0.8081 - val_dice_coef: 0.8081\n",
      "Epoch 26/120\n",
      "480/502 [===========================>..] - ETA: 0s - loss: -0.7923 - dice_coef: 0.7923Epoch 00026: val_loss improved from -0.81042 to -0.81043, saving model to model_with_dice.h5\n",
      "502/502 [==============================] - 4s 9ms/step - loss: -0.7929 - dice_coef: 0.7929 - val_loss: -0.8104 - val_dice_coef: 0.8104\n",
      "Epoch 27/120\n",
      "480/502 [===========================>..] - ETA: 0s - loss: -0.7937 - dice_coef: 0.7937Epoch 00027: val_loss did not improve\n",
      "502/502 [==============================] - 4s 8ms/step - loss: -0.7932 - dice_coef: 0.7932 - val_loss: -0.8104 - val_dice_coef: 0.8104\n",
      "Epoch 28/120\n",
      "480/502 [===========================>..] - ETA: 0s - loss: -0.7999 - dice_coef: 0.7999Epoch 00028: val_loss improved from -0.81043 to -0.81083, saving model to model_with_dice.h5\n",
      "502/502 [==============================] - 4s 9ms/step - loss: -0.7954 - dice_coef: 0.7954 - val_loss: -0.8108 - val_dice_coef: 0.8108\n",
      "Epoch 29/120\n",
      "480/502 [===========================>..] - ETA: 0s - loss: -0.7902 - dice_coef: 0.7902Epoch 00029: val_loss improved from -0.81083 to -0.81084, saving model to model_with_dice.h5\n",
      "502/502 [==============================] - 4s 9ms/step - loss: -0.7929 - dice_coef: 0.7929 - val_loss: -0.8108 - val_dice_coef: 0.8108\n",
      "Epoch 30/120\n",
      "480/502 [===========================>..] - ETA: 0s - loss: -0.8017 - dice_coef: 0.8017Epoch 00030: val_loss did not improve\n",
      "502/502 [==============================] - 4s 8ms/step - loss: -0.7955 - dice_coef: 0.7955 - val_loss: -0.8099 - val_dice_coef: 0.8099\n",
      "Epoch 31/120\n",
      "480/502 [===========================>..] - ETA: 0s - loss: -0.7955 - dice_coef: 0.7955Epoch 00031: val_loss improved from -0.81084 to -0.81090, saving model to model_with_dice.h5\n",
      "502/502 [==============================] - 4s 9ms/step - loss: -0.7954 - dice_coef: 0.7954 - val_loss: -0.8109 - val_dice_coef: 0.8109\n",
      "Epoch 32/120\n",
      "480/502 [===========================>..] - ETA: 0s - loss: -0.8015 - dice_coef: 0.8015Epoch 00032: val_loss did not improve\n",
      "502/502 [==============================] - 4s 8ms/step - loss: -0.7961 - dice_coef: 0.7961 - val_loss: -0.8107 - val_dice_coef: 0.8107\n",
      "Epoch 33/120\n",
      "480/502 [===========================>..] - ETA: 0s - loss: -0.7846 - dice_coef: 0.7846Epoch 00033: val_loss did not improve\n",
      "502/502 [==============================] - 4s 8ms/step - loss: -0.7896 - dice_coef: 0.7896 - val_loss: -0.8107 - val_dice_coef: 0.8107\n",
      "Epoch 34/120\n",
      "480/502 [===========================>..] - ETA: 0s - loss: -0.8004 - dice_coef: 0.8004Epoch 00034: val_loss did not improve\n",
      "502/502 [==============================] - 4s 8ms/step - loss: -0.7954 - dice_coef: 0.7954 - val_loss: -0.8108 - val_dice_coef: 0.8108\n",
      "Epoch 35/120\n",
      "480/502 [===========================>..] - ETA: 0s - loss: -0.7934 - dice_coef: 0.7934Epoch 00035: val_loss did not improve\n",
      "502/502 [==============================] - 4s 8ms/step - loss: -0.7919 - dice_coef: 0.7919 - val_loss: -0.8100 - val_dice_coef: 0.8100\n",
      "Epoch 36/120\n",
      "480/502 [===========================>..] - ETA: 0s - loss: -0.7972 - dice_coef: 0.7972Epoch 00036: val_loss did not improve\n",
      "502/502 [==============================] - 4s 8ms/step - loss: -0.7940 - dice_coef: 0.7940 - val_loss: -0.8108 - val_dice_coef: 0.8108\n",
      "Epoch 37/120\n",
      "480/502 [===========================>..] - ETA: 0s - loss: -0.7871 - dice_coef: 0.7871Epoch 00037: val_loss did not improve\n",
      "502/502 [==============================] - 4s 8ms/step - loss: -0.7906 - dice_coef: 0.7906 - val_loss: -0.8094 - val_dice_coef: 0.8094\n",
      "Epoch 38/120\n",
      "480/502 [===========================>..] - ETA: 0s - loss: -0.7858 - dice_coef: 0.7858Epoch 00038: val_loss did not improve\n",
      "502/502 [==============================] - 4s 8ms/step - loss: -0.7927 - dice_coef: 0.7927 - val_loss: -0.8105 - val_dice_coef: 0.8105\n",
      "Epoch 39/120\n",
      "480/502 [===========================>..] - ETA: 0s - loss: -0.7877 - dice_coef: 0.7877Epoch 00039: val_loss did not improve\n",
      "502/502 [==============================] - 4s 8ms/step - loss: -0.7919 - dice_coef: 0.7919 - val_loss: -0.8107 - val_dice_coef: 0.8107\n",
      "Epoch 40/120\n",
      "480/502 [===========================>..] - ETA: 0s - loss: -0.7985 - dice_coef: 0.7985Epoch 00040: val_loss improved from -0.81090 to -0.81140, saving model to model_with_dice.h5\n",
      "502/502 [==============================] - 4s 9ms/step - loss: -0.7969 - dice_coef: 0.7969 - val_loss: -0.8114 - val_dice_coef: 0.8114\n",
      "Epoch 41/120\n",
      "480/502 [===========================>..] - ETA: 0s - loss: -0.7894 - dice_coef: 0.7894Epoch 00041: val_loss did not improve\n",
      "502/502 [==============================] - 4s 8ms/step - loss: -0.7960 - dice_coef: 0.7960 - val_loss: -0.8105 - val_dice_coef: 0.8105\n",
      "Epoch 42/120\n",
      "480/502 [===========================>..] - ETA: 0s - loss: -0.7907 - dice_coef: 0.7907Epoch 00042: val_loss improved from -0.81140 to -0.81167, saving model to model_with_dice.h5\n",
      "502/502 [==============================] - 4s 9ms/step - loss: -0.7932 - dice_coef: 0.7932 - val_loss: -0.8117 - val_dice_coef: 0.8117\n",
      "Epoch 43/120\n",
      "480/502 [===========================>..] - ETA: 0s - loss: -0.7885 - dice_coef: 0.7885Epoch 00043: val_loss did not improve\n",
      "502/502 [==============================] - 3s 7ms/step - loss: -0.7914 - dice_coef: 0.7914 - val_loss: -0.8111 - val_dice_coef: 0.8111\n",
      "Epoch 44/120\n",
      "480/502 [===========================>..] - ETA: 0s - loss: -0.7897 - dice_coef: 0.7897Epoch 00044: val_loss improved from -0.81167 to -0.81176, saving model to model_with_dice.h5\n",
      "502/502 [==============================] - 3s 7ms/step - loss: -0.7924 - dice_coef: 0.7924 - val_loss: -0.8118 - val_dice_coef: 0.8118\n",
      "Epoch 45/120\n",
      "480/502 [===========================>..] - ETA: 0s - loss: -0.7912 - dice_coef: 0.7912Epoch 00045: val_loss did not improve\n",
      "502/502 [==============================] - 3s 6ms/step - loss: -0.7911 - dice_coef: 0.7911 - val_loss: -0.8108 - val_dice_coef: 0.8108\n",
      "Epoch 46/120\n",
      "480/502 [===========================>..] - ETA: 0s - loss: -0.7906 - dice_coef: 0.7906Epoch 00046: val_loss did not improve\n",
      "502/502 [==============================] - 3s 6ms/step - loss: -0.7943 - dice_coef: 0.7943 - val_loss: -0.8116 - val_dice_coef: 0.8116\n",
      "Epoch 47/120\n",
      "480/502 [===========================>..] - ETA: 0s - loss: -0.7941 - dice_coef: 0.7941Epoch 00047: val_loss did not improve\n",
      "502/502 [==============================] - 3s 6ms/step - loss: -0.7969 - dice_coef: 0.7969 - val_loss: -0.8111 - val_dice_coef: 0.8111\n",
      "Epoch 48/120\n",
      "480/502 [===========================>..] - ETA: 0s - loss: -0.7939 - dice_coef: 0.7939Epoch 00048: val_loss did not improve\n",
      "502/502 [==============================] - 3s 7ms/step - loss: -0.7905 - dice_coef: 0.7905 - val_loss: -0.8118 - val_dice_coef: 0.8118\n",
      "Epoch 49/120\n",
      "480/502 [===========================>..] - ETA: 0s - loss: -0.7916 - dice_coef: 0.7916Epoch 00049: val_loss did not improve\n",
      "502/502 [==============================] - 3s 7ms/step - loss: -0.7939 - dice_coef: 0.7939 - val_loss: -0.8113 - val_dice_coef: 0.8113\n",
      "Epoch 50/120\n",
      "480/502 [===========================>..] - ETA: 0s - loss: -0.8000 - dice_coef: 0.8000Epoch 00050: val_loss did not improve\n",
      "502/502 [==============================] - 3s 7ms/step - loss: -0.7981 - dice_coef: 0.7981 - val_loss: -0.8112 - val_dice_coef: 0.8112\n",
      "Epoch 51/120\n",
      "480/502 [===========================>..] - ETA: 0s - loss: -0.7987 - dice_coef: 0.7987Epoch 00051: val_loss did not improve\n",
      "502/502 [==============================] - 3s 7ms/step - loss: -0.7956 - dice_coef: 0.7956 - val_loss: -0.8109 - val_dice_coef: 0.8109\n",
      "Epoch 52/120\n",
      "480/502 [===========================>..] - ETA: 0s - loss: -0.8013 - dice_coef: 0.8013Epoch 00052: val_loss did not improve\n",
      "502/502 [==============================] - 4s 8ms/step - loss: -0.7989 - dice_coef: 0.7989 - val_loss: -0.8097 - val_dice_coef: 0.8097\n",
      "Epoch 53/120\n",
      "480/502 [===========================>..] - ETA: 0s - loss: -0.7870 - dice_coef: 0.7870Epoch 00053: val_loss improved from -0.81176 to -0.81198, saving model to model_with_dice.h5\n",
      "502/502 [==============================] - 4s 9ms/step - loss: -0.7912 - dice_coef: 0.7912 - val_loss: -0.8120 - val_dice_coef: 0.8120\n",
      "Epoch 54/120\n",
      "480/502 [===========================>..] - ETA: 0s - loss: -0.7988 - dice_coef: 0.7988Epoch 00054: val_loss did not improve\n",
      "502/502 [==============================] - 4s 8ms/step - loss: -0.8001 - dice_coef: 0.8001 - val_loss: -0.8113 - val_dice_coef: 0.8113\n",
      "Epoch 55/120\n",
      "480/502 [===========================>..] - ETA: 0s - loss: -0.7932 - dice_coef: 0.7932Epoch 00055: val_loss did not improve\n",
      "502/502 [==============================] - 4s 8ms/step - loss: -0.7940 - dice_coef: 0.7940 - val_loss: -0.8118 - val_dice_coef: 0.8118\n",
      "Epoch 56/120\n",
      "480/502 [===========================>..] - ETA: 0s - loss: -0.7954 - dice_coef: 0.7954Epoch 00056: val_loss did not improve\n",
      "502/502 [==============================] - 4s 8ms/step - loss: -0.7925 - dice_coef: 0.7925 - val_loss: -0.8103 - val_dice_coef: 0.8103\n",
      "Epoch 57/120\n",
      "480/502 [===========================>..] - ETA: 0s - loss: -0.7938 - dice_coef: 0.7938Epoch 00057: val_loss did not improve\n",
      "502/502 [==============================] - 4s 8ms/step - loss: -0.7944 - dice_coef: 0.7944 - val_loss: -0.8115 - val_dice_coef: 0.8115\n"
     ]
    },
    {
     "name": "stdout",
     "output_type": "stream",
     "text": [
      "Epoch 58/120\n",
      "480/502 [===========================>..] - ETA: 0s - loss: -0.7938 - dice_coef: 0.7938Epoch 00058: val_loss did not improve\n",
      "502/502 [==============================] - 4s 8ms/step - loss: -0.7956 - dice_coef: 0.7956 - val_loss: -0.8117 - val_dice_coef: 0.8117\n",
      "Epoch 59/120\n",
      "480/502 [===========================>..] - ETA: 0s - loss: -0.7898 - dice_coef: 0.7898Epoch 00059: val_loss improved from -0.81198 to -0.81212, saving model to model_with_dice.h5\n",
      "502/502 [==============================] - 4s 9ms/step - loss: -0.7905 - dice_coef: 0.7905 - val_loss: -0.8121 - val_dice_coef: 0.8121\n",
      "Epoch 60/120\n",
      "480/502 [===========================>..] - ETA: 0s - loss: -0.7993 - dice_coef: 0.7993Epoch 00060: val_loss did not improve\n",
      "502/502 [==============================] - 4s 8ms/step - loss: -0.7962 - dice_coef: 0.7962 - val_loss: -0.8112 - val_dice_coef: 0.8112\n",
      "Epoch 61/120\n",
      "480/502 [===========================>..] - ETA: 0s - loss: -0.7948 - dice_coef: 0.7948Epoch 00061: val_loss improved from -0.81212 to -0.81230, saving model to model_with_dice.h5\n",
      "502/502 [==============================] - 4s 9ms/step - loss: -0.7961 - dice_coef: 0.7961 - val_loss: -0.8123 - val_dice_coef: 0.8123\n",
      "Epoch 62/120\n",
      "480/502 [===========================>..] - ETA: 0s - loss: -0.7983 - dice_coef: 0.7983Epoch 00062: val_loss did not improve\n",
      "502/502 [==============================] - 4s 8ms/step - loss: -0.7984 - dice_coef: 0.7984 - val_loss: -0.8117 - val_dice_coef: 0.8117\n",
      "Epoch 63/120\n",
      "480/502 [===========================>..] - ETA: 0s - loss: -0.7962 - dice_coef: 0.7962Epoch 00063: val_loss did not improve\n",
      "502/502 [==============================] - 4s 8ms/step - loss: -0.7959 - dice_coef: 0.7959 - val_loss: -0.8123 - val_dice_coef: 0.8123\n",
      "Epoch 64/120\n",
      "480/502 [===========================>..] - ETA: 0s - loss: -0.7999 - dice_coef: 0.7999Epoch 00064: val_loss did not improve\n",
      "502/502 [==============================] - 4s 8ms/step - loss: -0.7979 - dice_coef: 0.7979 - val_loss: -0.8118 - val_dice_coef: 0.8118\n",
      "Epoch 65/120\n",
      "480/502 [===========================>..] - ETA: 0s - loss: -0.7976 - dice_coef: 0.7976Epoch 00065: val_loss improved from -0.81230 to -0.81237, saving model to model_with_dice.h5\n",
      "502/502 [==============================] - 4s 9ms/step - loss: -0.7953 - dice_coef: 0.7953 - val_loss: -0.8124 - val_dice_coef: 0.8124\n",
      "Epoch 66/120\n",
      "480/502 [===========================>..] - ETA: 0s - loss: -0.8035 - dice_coef: 0.8035Epoch 00066: val_loss did not improve\n",
      "502/502 [==============================] - 4s 8ms/step - loss: -0.7999 - dice_coef: 0.7999 - val_loss: -0.8118 - val_dice_coef: 0.8118\n",
      "Epoch 67/120\n",
      "480/502 [===========================>..] - ETA: 0s - loss: -0.7977 - dice_coef: 0.7977Epoch 00067: val_loss did not improve\n",
      "502/502 [==============================] - 4s 8ms/step - loss: -0.7988 - dice_coef: 0.7988 - val_loss: -0.8118 - val_dice_coef: 0.8118\n",
      "Epoch 68/120\n",
      "480/502 [===========================>..] - ETA: 0s - loss: -0.8024 - dice_coef: 0.8024Epoch 00068: val_loss did not improve\n",
      "502/502 [==============================] - 4s 8ms/step - loss: -0.8018 - dice_coef: 0.8018 - val_loss: -0.8123 - val_dice_coef: 0.8123\n",
      "Epoch 69/120\n",
      "480/502 [===========================>..] - ETA: 0s - loss: -0.7985 - dice_coef: 0.7985Epoch 00069: val_loss improved from -0.81237 to -0.81296, saving model to model_with_dice.h5\n",
      "502/502 [==============================] - 4s 9ms/step - loss: -0.7991 - dice_coef: 0.7991 - val_loss: -0.8130 - val_dice_coef: 0.8130\n",
      "Epoch 70/120\n",
      "480/502 [===========================>..] - ETA: 0s - loss: -0.7975 - dice_coef: 0.7975Epoch 00070: val_loss did not improve\n",
      "502/502 [==============================] - 4s 8ms/step - loss: -0.7972 - dice_coef: 0.7972 - val_loss: -0.8107 - val_dice_coef: 0.8107\n",
      "Epoch 71/120\n",
      "480/502 [===========================>..] - ETA: 0s - loss: -0.8026 - dice_coef: 0.8026Epoch 00071: val_loss did not improve\n",
      "502/502 [==============================] - 4s 8ms/step - loss: -0.8002 - dice_coef: 0.8002 - val_loss: -0.8122 - val_dice_coef: 0.8122\n",
      "Epoch 72/120\n",
      "480/502 [===========================>..] - ETA: 0s - loss: -0.7988 - dice_coef: 0.7988Epoch 00072: val_loss did not improve\n",
      "502/502 [==============================] - 4s 8ms/step - loss: -0.7964 - dice_coef: 0.7964 - val_loss: -0.8126 - val_dice_coef: 0.8126\n",
      "Epoch 73/120\n",
      "480/502 [===========================>..] - ETA: 0s - loss: -0.7949 - dice_coef: 0.7949Epoch 00073: val_loss did not improve\n",
      "502/502 [==============================] - 4s 8ms/step - loss: -0.7964 - dice_coef: 0.7964 - val_loss: -0.8125 - val_dice_coef: 0.8125\n",
      "Epoch 74/120\n",
      "480/502 [===========================>..] - ETA: 0s - loss: -0.7966 - dice_coef: 0.7966Epoch 00074: val_loss did not improve\n",
      "502/502 [==============================] - 4s 8ms/step - loss: -0.7967 - dice_coef: 0.7967 - val_loss: -0.8126 - val_dice_coef: 0.8126\n",
      "Epoch 75/120\n",
      "480/502 [===========================>..] - ETA: 0s - loss: -0.7947 - dice_coef: 0.7947Epoch 00075: val_loss did not improve\n",
      "502/502 [==============================] - 4s 8ms/step - loss: -0.7936 - dice_coef: 0.7936 - val_loss: -0.8108 - val_dice_coef: 0.8108\n",
      "Epoch 76/120\n",
      "480/502 [===========================>..] - ETA: 0s - loss: -0.8047 - dice_coef: 0.8047Epoch 00076: val_loss did not improve\n",
      "502/502 [==============================] - 4s 8ms/step - loss: -0.7954 - dice_coef: 0.7954 - val_loss: -0.8114 - val_dice_coef: 0.8114\n",
      "Epoch 77/120\n",
      "480/502 [===========================>..] - ETA: 0s - loss: -0.8008 - dice_coef: 0.8008Epoch 00077: val_loss did not improve\n",
      "502/502 [==============================] - 4s 8ms/step - loss: -0.7981 - dice_coef: 0.7981 - val_loss: -0.8123 - val_dice_coef: 0.8123\n",
      "Epoch 78/120\n",
      "480/502 [===========================>..] - ETA: 0s - loss: -0.8012 - dice_coef: 0.8012Epoch 00078: val_loss did not improve\n",
      "502/502 [==============================] - 4s 8ms/step - loss: -0.7982 - dice_coef: 0.7982 - val_loss: -0.8128 - val_dice_coef: 0.8128\n",
      "Epoch 79/120\n",
      "480/502 [===========================>..] - ETA: 0s - loss: -0.7610 - dice_coef: 0.7610Epoch 00079: val_loss did not improve\n",
      "502/502 [==============================] - 4s 8ms/step - loss: -0.7653 - dice_coef: 0.7653 - val_loss: -0.8006 - val_dice_coef: 0.8006\n",
      "Epoch 80/120\n",
      "480/502 [===========================>..] - ETA: 0s - loss: -0.7772 - dice_coef: 0.7772Epoch 00080: val_loss did not improve\n",
      "502/502 [==============================] - 4s 8ms/step - loss: -0.7788 - dice_coef: 0.7788 - val_loss: -0.7984 - val_dice_coef: 0.7984\n",
      "Epoch 81/120\n",
      "480/502 [===========================>..] - ETA: 0s - loss: -0.7863 - dice_coef: 0.7863Epoch 00081: val_loss did not improve\n",
      "502/502 [==============================] - 4s 8ms/step - loss: -0.7852 - dice_coef: 0.7852 - val_loss: -0.8063 - val_dice_coef: 0.8063\n",
      "Epoch 82/120\n",
      "480/502 [===========================>..] - ETA: 0s - loss: -0.7827 - dice_coef: 0.7827Epoch 00082: val_loss did not improve\n",
      "502/502 [==============================] - 4s 8ms/step - loss: -0.7855 - dice_coef: 0.7855 - val_loss: -0.8073 - val_dice_coef: 0.8073\n",
      "Epoch 83/120\n",
      "480/502 [===========================>..] - ETA: 0s - loss: -0.7884 - dice_coef: 0.7884Epoch 00083: val_loss did not improve\n",
      "502/502 [==============================] - 4s 8ms/step - loss: -0.7869 - dice_coef: 0.7869 - val_loss: -0.8079 - val_dice_coef: 0.8079\n",
      "Epoch 84/120\n",
      "480/502 [===========================>..] - ETA: 0s - loss: -0.7926 - dice_coef: 0.7926Epoch 00084: val_loss did not improve\n",
      "502/502 [==============================] - 4s 8ms/step - loss: -0.7906 - dice_coef: 0.7906 - val_loss: -0.8097 - val_dice_coef: 0.8097\n",
      "Epoch 00084: early stopping\n"
     ]
    }
   ],
   "source": [
    "# Fit model\n",
    "earlystopper = EarlyStopping(patience=15, verbose=1)\n",
    "checkpointer = ModelCheckpoint('model_with_dice.h5', verbose=1, save_best_only=True)\n",
    "results = model.fit(X_tr, y_tr, validation_data=(X_te, y_te), batch_size=32, epochs=120, \n",
    "                    callbacks=[earlystopper, checkpointer])"
   ]
  },
  {
   "cell_type": "code",
   "execution_count": 250,
   "metadata": {
    "collapsed": true
   },
   "outputs": [],
   "source": [
    "model.load_weights('./model_with_dice.h5')"
   ]
  },
  {
   "cell_type": "code",
   "execution_count": 251,
   "metadata": {},
   "outputs": [
    {
     "name": "stdout",
     "output_type": "stream",
     "text": [
      "168/168 [==============================] - 0s 1ms/step\n"
     ]
    }
   ],
   "source": [
    "y_prev = model.predict(X_te, verbose=1)"
   ]
  },
  {
   "cell_type": "code",
   "execution_count": 252,
   "metadata": {
    "collapsed": true
   },
   "outputs": [],
   "source": [
    "# Applying no deep learning algorithm and comparing"
   ]
  },
  {
   "cell_type": "code",
   "execution_count": 253,
   "metadata": {
    "collapsed": true
   },
   "outputs": [],
   "source": [
    "dict_te = {'Clara' : [],\n",
    "        'Escura' : []}\n",
    "for i, j in enumerate(X_te):\n",
    "    if (np.mean(j) > 80):\n",
    "        dict_te['Clara'].append(i)\n",
    "    else:\n",
    "        dict_te['Escura'].append(i)\n",
    "dict_te['Clara'] = np.array(dict_te['Clara'])\n",
    "dict_te['Escura'] = np.array(dict_te['Escura'])"
   ]
  },
  {
   "cell_type": "code",
   "execution_count": 254,
   "metadata": {
    "collapsed": true
   },
   "outputs": [],
   "source": [
    "predictions = np.zeros(np.squeeze(y_te).shape)\n",
    "for i, img in enumerate(X_te):\n",
    "    if (i in dict_te['Escura']):\n",
    "        predictions[i] = binarize(rgb2gray(img), threshold=threshold_otsu(rgb2gray(img))/1.5)\n",
    "    else:\n",
    "        predictions[i] = 1 - binarize(rgb2gray(img), threshold=threshold_otsu(rgb2gray(img)))"
   ]
  },
  {
   "cell_type": "code",
   "execution_count": 255,
   "metadata": {
    "collapsed": true
   },
   "outputs": [],
   "source": [
    "from ipywidgets import interact, fixed"
   ]
  },
  {
   "cell_type": "code",
   "execution_count": 73,
   "metadata": {
    "collapsed": true
   },
   "outputs": [],
   "source": [
    "def show(index, img, cmap='jet'):\n",
    "    plt.figure(figsize=(10,10))\n",
    "    plt.imshow(img[:][index], cmap=cmap)\n",
    "    plt.colorbar()\n",
    "    plt.show()\n",
    "    \n",
    "def display_images(index, img, prev, mask):\n",
    "    # Create a figure with two subplots and the specified size.\n",
    "    plt.subplots(1,3,figsize=(15,12))\n",
    "    \n",
    "    # Draw the fixed image in the first subplot.\n",
    "    plt.subplot(1,3,1)\n",
    "    plt.imshow(img[index],cmap='jet');\n",
    "    plt.title('vol')\n",
    "    plt.axis('off')\n",
    "    \n",
    "    # Draw the moving image in the second subplot.\n",
    "    plt.subplot(1,3,2)\n",
    "    plt.imshow(prev[:,:,:,0][index] > 0.5,cmap='jet');\n",
    "    plt.title('predicted')\n",
    "    plt.axis('off')\n",
    "    \n",
    "    plt.subplot(1,3,3)\n",
    "    plt.imshow(mask[:,:,:,0][index],cmap='jet');\n",
    "    plt.title('mask')\n",
    "    plt.axis('off')\n",
    "    \n",
    "    print (dice(mask[:,:,:,0][index], prev[:,:,:,0][index]>0.40))\n",
    "    plt.show()"
   ]
  },
  {
   "cell_type": "code",
   "execution_count": 257,
   "metadata": {},
   "outputs": [
    {
     "data": {
      "application/vnd.jupyter.widget-view+json": {
       "model_id": "8f178299b3044598b1224c1ef0a2e17c"
      }
     },
     "metadata": {},
     "output_type": "display_data"
    },
    {
     "data": {
      "text/plain": [
       "<function __main__.display_images>"
      ]
     },
     "execution_count": 257,
     "metadata": {},
     "output_type": "execute_result"
    }
   ],
   "source": [
    "interact(display_images, index = (0, len(X_te)-1),img=fixed(X_te), prev=fixed(y_prev), mask = fixed(y_te))"
   ]
  },
  {
   "cell_type": "code",
   "execution_count": 258,
   "metadata": {
    "collapsed": true
   },
   "outputs": [],
   "source": [
    "dices_escuras = []\n",
    "for i in dict_te['Escura']:\n",
    "    dices_escuras.append(dice(y_prev[i] > 0.5, y_te[i]))\n",
    "dices_escuras = np.array(dices_escuras)"
   ]
  },
  {
   "cell_type": "code",
   "execution_count": 259,
   "metadata": {},
   "outputs": [
    {
     "name": "stdout",
     "output_type": "stream",
     "text": [
      "Average dice:  0.938578743463\n",
      "Worst dice:  0.717951211749\n",
      "Best dice:  0.988059879703\n",
      "Median:  0.955117099487\n"
     ]
    }
   ],
   "source": [
    "print 'Average dice: ', np.mean(dices_escuras)\n",
    "print 'Worst dice: ', np.min(dices_escuras)\n",
    "print 'Best dice: ', np.max(dices_escuras)\n",
    "print 'Median: ', np.median(dices_escuras)"
   ]
  },
  {
   "cell_type": "code",
   "execution_count": 263,
   "metadata": {},
   "outputs": [
    {
     "data": {
      "text/plain": [
       "array([  3,   9,  11,  17,  26,  35,  37,  38,  42,  47,  49,  50,  64,\n",
       "        66,  71,  79,  95,  99, 100, 104, 123, 125, 131, 136, 138, 140,\n",
       "       142, 153, 158, 161, 164])"
      ]
     },
     "execution_count": 263,
     "metadata": {},
     "output_type": "execute_result"
    }
   ],
   "source": [
    "dict_te['Clara']"
   ]
  },
  {
   "cell_type": "code",
   "execution_count": 267,
   "metadata": {
    "collapsed": true
   },
   "outputs": [],
   "source": [
    "dices_claras = []\n",
    "\n",
    "for i in dict_te['Clara']:\n",
    "    dices_claras.append(dice(y_prev[i] > 0.5, y_te[i]))\n",
    "dices_claras = np.array(dices_claras)"
   ]
  },
  {
   "cell_type": "code",
   "execution_count": 268,
   "metadata": {},
   "outputs": [
    {
     "name": "stdout",
     "output_type": "stream",
     "text": [
      "Average dice:  9.10481190517e-06\n",
      "Worst dice:  9.91079295263e-07\n",
      "Best dice:  4.69461527628e-05\n",
      "Median:  3.1867329932e-06\n"
     ]
    }
   ],
   "source": [
    "print 'Average dice: ', np.mean(dices_claras)\n",
    "print 'Worst dice: ', np.min(dices_claras)\n",
    "print 'Best dice: ', np.max(dices_claras)\n",
    "print 'Median: ', np.median(dices_claras)"
   ]
  },
  {
   "cell_type": "markdown",
   "metadata": {},
   "source": [
    "## Pelo jeito vamos precisar de um modelo de deep learning apenas para as imagens claras, e um apenas para as escuras..."
   ]
  },
  {
   "cell_type": "markdown",
   "metadata": {},
   "source": [
    "### Escuras"
   ]
  },
  {
   "cell_type": "code",
   "execution_count": 17,
   "metadata": {
    "collapsed": true
   },
   "outputs": [],
   "source": [
    "X_escuras = X_train[dict_['Escura']]\n",
    "y_escuras = Y_train[dict_['Escura']]"
   ]
  },
  {
   "cell_type": "code",
   "execution_count": 18,
   "metadata": {
    "collapsed": true
   },
   "outputs": [],
   "source": [
    "X_tr, X_te, y_tr, y_te = train_test_split(X_escuras, y_escuras, test_size = 0.25, random_state=42)"
   ]
  },
  {
   "cell_type": "code",
   "execution_count": 19,
   "metadata": {
    "collapsed": true
   },
   "outputs": [],
   "source": [
    "model = get_unet(IMG_WIDTH=256, IMG_HEIGHT=256)"
   ]
  },
  {
   "cell_type": "code",
   "execution_count": 20,
   "metadata": {},
   "outputs": [
    {
     "name": "stdout",
     "output_type": "stream",
     "text": [
      "Train on 409 samples, validate on 137 samples\n",
      "Epoch 1/120\n",
      "384/409 [===========================>..] - ETA: 0s - loss: -0.3611 - dice_coef: 0.3611Epoch 00001: val_loss improved from inf to -0.72787, saving model to model_256_escuras_with_dice.h5\n",
      "409/409 [==============================] - 12s 29ms/step - loss: -0.3810 - dice_coef: 0.3810 - val_loss: -0.7279 - val_dice_coef: 0.7279\n",
      "Epoch 2/120\n",
      "384/409 [===========================>..] - ETA: 0s - loss: -0.7757 - dice_coef: 0.7757Epoch 00002: val_loss improved from -0.72787 to -0.73433, saving model to model_256_escuras_with_dice.h5\n",
      "409/409 [==============================] - 7s 18ms/step - loss: -0.7767 - dice_coef: 0.7767 - val_loss: -0.7343 - val_dice_coef: 0.7343\n",
      "Epoch 3/120\n",
      "384/409 [===========================>..] - ETA: 0s - loss: -0.8297 - dice_coef: 0.8297Epoch 00003: val_loss improved from -0.73433 to -0.87114, saving model to model_256_escuras_with_dice.h5\n",
      "409/409 [==============================] - 7s 17ms/step - loss: -0.8323 - dice_coef: 0.8323 - val_loss: -0.8711 - val_dice_coef: 0.8711\n",
      "Epoch 4/120\n",
      "384/409 [===========================>..] - ETA: 0s - loss: -0.8771 - dice_coef: 0.8771Epoch 00004: val_loss improved from -0.87114 to -0.89578, saving model to model_256_escuras_with_dice.h5\n",
      "409/409 [==============================] - 7s 17ms/step - loss: -0.8774 - dice_coef: 0.8774 - val_loss: -0.8958 - val_dice_coef: 0.8958\n",
      "Epoch 5/120\n",
      "384/409 [===========================>..] - ETA: 0s - loss: -0.8932 - dice_coef: 0.8932Epoch 00005: val_loss did not improve\n",
      "409/409 [==============================] - 7s 17ms/step - loss: -0.8926 - dice_coef: 0.8926 - val_loss: -0.8772 - val_dice_coef: 0.8772\n",
      "Epoch 6/120\n",
      "384/409 [===========================>..] - ETA: 0s - loss: -0.8960 - dice_coef: 0.8960Epoch 00006: val_loss improved from -0.89578 to -0.90576, saving model to model_256_escuras_with_dice.h5\n",
      "409/409 [==============================] - 7s 17ms/step - loss: -0.8966 - dice_coef: 0.8966 - val_loss: -0.9058 - val_dice_coef: 0.9058\n",
      "Epoch 7/120\n",
      "384/409 [===========================>..] - ETA: 0s - loss: -0.9033 - dice_coef: 0.9033Epoch 00007: val_loss improved from -0.90576 to -0.91435, saving model to model_256_escuras_with_dice.h5\n",
      "409/409 [==============================] - 7s 17ms/step - loss: -0.9028 - dice_coef: 0.9028 - val_loss: -0.9144 - val_dice_coef: 0.9144\n",
      "Epoch 8/120\n",
      "384/409 [===========================>..] - ETA: 0s - loss: -0.9065 - dice_coef: 0.9065Epoch 00008: val_loss improved from -0.91435 to -0.91537, saving model to model_256_escuras_with_dice.h5\n",
      "409/409 [==============================] - 7s 17ms/step - loss: -0.9049 - dice_coef: 0.9049 - val_loss: -0.9154 - val_dice_coef: 0.9154\n",
      "Epoch 9/120\n",
      "384/409 [===========================>..] - ETA: 0s - loss: -0.9081 - dice_coef: 0.9081Epoch 00009: val_loss improved from -0.91537 to -0.91976, saving model to model_256_escuras_with_dice.h5\n",
      "409/409 [==============================] - 7s 17ms/step - loss: -0.9093 - dice_coef: 0.9093 - val_loss: -0.9198 - val_dice_coef: 0.9198\n",
      "Epoch 10/120\n",
      "384/409 [===========================>..] - ETA: 0s - loss: -0.9108 - dice_coef: 0.9108Epoch 00010: val_loss did not improve\n",
      "409/409 [==============================] - 7s 17ms/step - loss: -0.9119 - dice_coef: 0.9119 - val_loss: -0.9196 - val_dice_coef: 0.9196\n",
      "Epoch 11/120\n",
      "384/409 [===========================>..] - ETA: 0s - loss: -0.9148 - dice_coef: 0.9148Epoch 00011: val_loss improved from -0.91976 to -0.92030, saving model to model_256_escuras_with_dice.h5\n",
      "409/409 [==============================] - 7s 17ms/step - loss: -0.9141 - dice_coef: 0.9141 - val_loss: -0.9203 - val_dice_coef: 0.9203\n",
      "Epoch 12/120\n",
      "384/409 [===========================>..] - ETA: 0s - loss: -0.9156 - dice_coef: 0.9156Epoch 00012: val_loss improved from -0.92030 to -0.92150, saving model to model_256_escuras_with_dice.h5\n",
      "409/409 [==============================] - 7s 17ms/step - loss: -0.9153 - dice_coef: 0.9153 - val_loss: -0.9215 - val_dice_coef: 0.9215\n",
      "Epoch 13/120\n",
      "384/409 [===========================>..] - ETA: 0s - loss: -0.9179 - dice_coef: 0.9179Epoch 00013: val_loss improved from -0.92150 to -0.92359, saving model to model_256_escuras_with_dice.h5\n",
      "409/409 [==============================] - 7s 17ms/step - loss: -0.9181 - dice_coef: 0.9181 - val_loss: -0.9236 - val_dice_coef: 0.9236\n",
      "Epoch 14/120\n",
      "384/409 [===========================>..] - ETA: 0s - loss: -0.9180 - dice_coef: 0.9180Epoch 00014: val_loss did not improve\n",
      "409/409 [==============================] - 7s 17ms/step - loss: -0.9180 - dice_coef: 0.9180 - val_loss: -0.9221 - val_dice_coef: 0.9221\n",
      "Epoch 15/120\n",
      "384/409 [===========================>..] - ETA: 0s - loss: -0.9180 - dice_coef: 0.9180Epoch 00015: val_loss did not improve\n",
      "409/409 [==============================] - 7s 17ms/step - loss: -0.9185 - dice_coef: 0.9185 - val_loss: -0.9186 - val_dice_coef: 0.9186\n",
      "Epoch 16/120\n",
      "384/409 [===========================>..] - ETA: 0s - loss: -0.9166 - dice_coef: 0.9166Epoch 00016: val_loss improved from -0.92359 to -0.92550, saving model to model_256_escuras_with_dice.h5\n",
      "409/409 [==============================] - 7s 17ms/step - loss: -0.9164 - dice_coef: 0.9164 - val_loss: -0.9255 - val_dice_coef: 0.9255\n",
      "Epoch 17/120\n",
      "384/409 [===========================>..] - ETA: 0s - loss: -0.9191 - dice_coef: 0.9191Epoch 00017: val_loss did not improve\n",
      "409/409 [==============================] - 7s 17ms/step - loss: -0.9176 - dice_coef: 0.9176 - val_loss: -0.9235 - val_dice_coef: 0.9235\n",
      "Epoch 18/120\n",
      "384/409 [===========================>..] - ETA: 0s - loss: -0.9226 - dice_coef: 0.9226Epoch 00018: val_loss improved from -0.92550 to -0.92556, saving model to model_256_escuras_with_dice.h5\n",
      "409/409 [==============================] - 7s 17ms/step - loss: -0.9206 - dice_coef: 0.9206 - val_loss: -0.9256 - val_dice_coef: 0.9256\n",
      "Epoch 19/120\n",
      "384/409 [===========================>..] - ETA: 0s - loss: -0.9210 - dice_coef: 0.9210Epoch 00019: val_loss improved from -0.92556 to -0.92704, saving model to model_256_escuras_with_dice.h5\n",
      "409/409 [==============================] - 7s 17ms/step - loss: -0.9212 - dice_coef: 0.9212 - val_loss: -0.9270 - val_dice_coef: 0.9270\n",
      "Epoch 20/120\n",
      "384/409 [===========================>..] - ETA: 0s - loss: -0.9220 - dice_coef: 0.9220Epoch 00020: val_loss improved from -0.92704 to -0.92722, saving model to model_256_escuras_with_dice.h5\n",
      "409/409 [==============================] - 7s 17ms/step - loss: -0.9225 - dice_coef: 0.9225 - val_loss: -0.9272 - val_dice_coef: 0.9272\n",
      "Epoch 21/120\n",
      "384/409 [===========================>..] - ETA: 0s - loss: -0.9228 - dice_coef: 0.9228Epoch 00021: val_loss did not improve\n",
      "409/409 [==============================] - 7s 17ms/step - loss: -0.9228 - dice_coef: 0.9228 - val_loss: -0.9204 - val_dice_coef: 0.9204\n",
      "Epoch 22/120\n",
      "384/409 [===========================>..] - ETA: 0s - loss: -0.9210 - dice_coef: 0.9210Epoch 00022: val_loss did not improve\n",
      "409/409 [==============================] - 7s 17ms/step - loss: -0.9216 - dice_coef: 0.9216 - val_loss: -0.9256 - val_dice_coef: 0.9256\n",
      "Epoch 23/120\n",
      "384/409 [===========================>..] - ETA: 0s - loss: -0.9215 - dice_coef: 0.9215Epoch 00023: val_loss improved from -0.92722 to -0.92731, saving model to model_256_escuras_with_dice.h5\n",
      "409/409 [==============================] - 7s 17ms/step - loss: -0.9216 - dice_coef: 0.9216 - val_loss: -0.9273 - val_dice_coef: 0.9273\n",
      "Epoch 24/120\n",
      "384/409 [===========================>..] - ETA: 0s - loss: -0.9222 - dice_coef: 0.9222Epoch 00024: val_loss did not improve\n",
      "409/409 [==============================] - 7s 17ms/step - loss: -0.9225 - dice_coef: 0.9225 - val_loss: -0.9248 - val_dice_coef: 0.9248\n",
      "Epoch 25/120\n",
      "384/409 [===========================>..] - ETA: 0s - loss: -0.9228 - dice_coef: 0.9228Epoch 00025: val_loss improved from -0.92731 to -0.92749, saving model to model_256_escuras_with_dice.h5\n",
      "409/409 [==============================] - 7s 17ms/step - loss: -0.9233 - dice_coef: 0.9233 - val_loss: -0.9275 - val_dice_coef: 0.9275\n",
      "Epoch 26/120\n",
      "384/409 [===========================>..] - ETA: 0s - loss: -0.9249 - dice_coef: 0.9249Epoch 00026: val_loss improved from -0.92749 to -0.92770, saving model to model_256_escuras_with_dice.h5\n",
      "409/409 [==============================] - 7s 17ms/step - loss: -0.9243 - dice_coef: 0.9243 - val_loss: -0.9277 - val_dice_coef: 0.9277\n"
     ]
    },
    {
     "name": "stdout",
     "output_type": "stream",
     "text": [
      "Epoch 27/120\n",
      "384/409 [===========================>..] - ETA: 0s - loss: -0.9246 - dice_coef: 0.9246Epoch 00027: val_loss did not improve\n",
      "409/409 [==============================] - 7s 17ms/step - loss: -0.9250 - dice_coef: 0.9250 - val_loss: -0.9273 - val_dice_coef: 0.9273\n",
      "Epoch 28/120\n",
      "384/409 [===========================>..] - ETA: 0s - loss: -0.9263 - dice_coef: 0.9263Epoch 00028: val_loss improved from -0.92770 to -0.92933, saving model to model_256_escuras_with_dice.h5\n",
      "409/409 [==============================] - 7s 17ms/step - loss: -0.9255 - dice_coef: 0.9255 - val_loss: -0.9293 - val_dice_coef: 0.9293\n",
      "Epoch 29/120\n",
      "384/409 [===========================>..] - ETA: 0s - loss: -0.9226 - dice_coef: 0.9226Epoch 00029: val_loss did not improve\n",
      "409/409 [==============================] - 7s 17ms/step - loss: -0.9235 - dice_coef: 0.9235 - val_loss: -0.9276 - val_dice_coef: 0.9276\n",
      "Epoch 30/120\n",
      "384/409 [===========================>..] - ETA: 0s - loss: -0.9250 - dice_coef: 0.9250Epoch 00030: val_loss did not improve\n",
      "409/409 [==============================] - 7s 17ms/step - loss: -0.9243 - dice_coef: 0.9243 - val_loss: -0.9241 - val_dice_coef: 0.9241\n",
      "Epoch 31/120\n",
      "384/409 [===========================>..] - ETA: 0s - loss: -0.9245 - dice_coef: 0.9245Epoch 00031: val_loss improved from -0.92933 to -0.92943, saving model to model_256_escuras_with_dice.h5\n",
      "409/409 [==============================] - 7s 17ms/step - loss: -0.9252 - dice_coef: 0.9252 - val_loss: -0.9294 - val_dice_coef: 0.9294\n",
      "Epoch 32/120\n",
      "384/409 [===========================>..] - ETA: 0s - loss: -0.9258 - dice_coef: 0.9258Epoch 00032: val_loss improved from -0.92943 to -0.93027, saving model to model_256_escuras_with_dice.h5\n",
      "409/409 [==============================] - 7s 17ms/step - loss: -0.9252 - dice_coef: 0.9252 - val_loss: -0.9303 - val_dice_coef: 0.9303\n",
      "Epoch 33/120\n",
      "384/409 [===========================>..] - ETA: 0s - loss: -0.9251 - dice_coef: 0.9251Epoch 00033: val_loss did not improve\n",
      "409/409 [==============================] - 7s 17ms/step - loss: -0.9251 - dice_coef: 0.9251 - val_loss: -0.9295 - val_dice_coef: 0.9295\n",
      "Epoch 34/120\n",
      "384/409 [===========================>..] - ETA: 0s - loss: -0.9257 - dice_coef: 0.9257Epoch 00034: val_loss did not improve\n",
      "409/409 [==============================] - 7s 17ms/step - loss: -0.9256 - dice_coef: 0.9256 - val_loss: -0.9287 - val_dice_coef: 0.9287\n",
      "Epoch 35/120\n",
      "384/409 [===========================>..] - ETA: 0s - loss: -0.9247 - dice_coef: 0.9247Epoch 00035: val_loss did not improve\n",
      "409/409 [==============================] - 7s 17ms/step - loss: -0.9253 - dice_coef: 0.9253 - val_loss: -0.9274 - val_dice_coef: 0.9274\n",
      "Epoch 36/120\n",
      "384/409 [===========================>..] - ETA: 0s - loss: -0.9279 - dice_coef: 0.9279Epoch 00036: val_loss did not improve\n",
      "409/409 [==============================] - 7s 17ms/step - loss: -0.9271 - dice_coef: 0.9271 - val_loss: -0.9285 - val_dice_coef: 0.9285\n",
      "Epoch 37/120\n",
      "384/409 [===========================>..] - ETA: 0s - loss: -0.9267 - dice_coef: 0.9267Epoch 00037: val_loss did not improve\n",
      "409/409 [==============================] - 7s 17ms/step - loss: -0.9273 - dice_coef: 0.9273 - val_loss: -0.9281 - val_dice_coef: 0.9281\n",
      "Epoch 38/120\n",
      "384/409 [===========================>..] - ETA: 0s - loss: -0.9261 - dice_coef: 0.9261Epoch 00038: val_loss did not improve\n",
      "409/409 [==============================] - 7s 17ms/step - loss: -0.9264 - dice_coef: 0.9264 - val_loss: -0.9299 - val_dice_coef: 0.9299\n",
      "Epoch 39/120\n",
      "384/409 [===========================>..] - ETA: 0s - loss: -0.9256 - dice_coef: 0.9256Epoch 00039: val_loss did not improve\n",
      "409/409 [==============================] - 7s 17ms/step - loss: -0.9269 - dice_coef: 0.9269 - val_loss: -0.9296 - val_dice_coef: 0.9296\n",
      "Epoch 40/120\n",
      "384/409 [===========================>..] - ETA: 0s - loss: -0.9295 - dice_coef: 0.9295Epoch 00040: val_loss improved from -0.93027 to -0.93116, saving model to model_256_escuras_with_dice.h5\n",
      "409/409 [==============================] - 7s 17ms/step - loss: -0.9299 - dice_coef: 0.9299 - val_loss: -0.9312 - val_dice_coef: 0.9312\n",
      "Epoch 41/120\n",
      "384/409 [===========================>..] - ETA: 0s - loss: -0.9294 - dice_coef: 0.9294Epoch 00041: val_loss did not improve\n",
      "409/409 [==============================] - 7s 17ms/step - loss: -0.9292 - dice_coef: 0.9292 - val_loss: -0.9301 - val_dice_coef: 0.9301\n",
      "Epoch 42/120\n",
      "384/409 [===========================>..] - ETA: 0s - loss: -0.9297 - dice_coef: 0.9297Epoch 00042: val_loss did not improve\n",
      "409/409 [==============================] - 7s 17ms/step - loss: -0.9297 - dice_coef: 0.9297 - val_loss: -0.9310 - val_dice_coef: 0.9310\n",
      "Epoch 43/120\n",
      "384/409 [===========================>..] - ETA: 0s - loss: -0.9293 - dice_coef: 0.9293Epoch 00043: val_loss did not improve\n",
      "409/409 [==============================] - 7s 17ms/step - loss: -0.9294 - dice_coef: 0.9294 - val_loss: -0.9294 - val_dice_coef: 0.9294\n",
      "Epoch 44/120\n",
      "384/409 [===========================>..] - ETA: 0s - loss: -0.9325 - dice_coef: 0.9325Epoch 00044: val_loss did not improve\n",
      "409/409 [==============================] - 7s 17ms/step - loss: -0.9314 - dice_coef: 0.9314 - val_loss: -0.9293 - val_dice_coef: 0.9293\n",
      "Epoch 45/120\n",
      "384/409 [===========================>..] - ETA: 0s - loss: -0.9302 - dice_coef: 0.9302Epoch 00045: val_loss improved from -0.93116 to -0.93171, saving model to model_256_escuras_with_dice.h5\n",
      "409/409 [==============================] - 7s 17ms/step - loss: -0.9301 - dice_coef: 0.9301 - val_loss: -0.9317 - val_dice_coef: 0.9317\n",
      "Epoch 46/120\n",
      "384/409 [===========================>..] - ETA: 0s - loss: -0.9327 - dice_coef: 0.9327Epoch 00046: val_loss did not improve\n",
      "409/409 [==============================] - 7s 17ms/step - loss: -0.9317 - dice_coef: 0.9317 - val_loss: -0.9305 - val_dice_coef: 0.9305\n",
      "Epoch 47/120\n",
      "384/409 [===========================>..] - ETA: 0s - loss: -0.9320 - dice_coef: 0.9320Epoch 00047: val_loss did not improve\n",
      "409/409 [==============================] - 7s 17ms/step - loss: -0.9311 - dice_coef: 0.9311 - val_loss: -0.9306 - val_dice_coef: 0.9306\n",
      "Epoch 48/120\n",
      "384/409 [===========================>..] - ETA: 0s - loss: -0.9316 - dice_coef: 0.9316Epoch 00048: val_loss did not improve\n",
      "409/409 [==============================] - 7s 17ms/step - loss: -0.9319 - dice_coef: 0.9319 - val_loss: -0.9296 - val_dice_coef: 0.9296\n",
      "Epoch 49/120\n",
      "384/409 [===========================>..] - ETA: 0s - loss: -0.9268 - dice_coef: 0.9268Epoch 00049: val_loss did not improve\n",
      "409/409 [==============================] - 7s 17ms/step - loss: -0.9265 - dice_coef: 0.9265 - val_loss: -0.9260 - val_dice_coef: 0.9260\n",
      "Epoch 50/120\n",
      "384/409 [===========================>..] - ETA: 0s - loss: -0.9305 - dice_coef: 0.9305Epoch 00050: val_loss improved from -0.93171 to -0.93198, saving model to model_256_escuras_with_dice.h5\n",
      "409/409 [==============================] - 7s 17ms/step - loss: -0.9311 - dice_coef: 0.9311 - val_loss: -0.9320 - val_dice_coef: 0.9320\n",
      "Epoch 51/120\n",
      "384/409 [===========================>..] - ETA: 0s - loss: -0.9310 - dice_coef: 0.9310Epoch 00051: val_loss improved from -0.93198 to -0.93205, saving model to model_256_escuras_with_dice.h5\n",
      "409/409 [==============================] - 7s 17ms/step - loss: -0.9313 - dice_coef: 0.9313 - val_loss: -0.9321 - val_dice_coef: 0.9321\n",
      "Epoch 52/120\n",
      "384/409 [===========================>..] - ETA: 0s - loss: -0.9337 - dice_coef: 0.9337Epoch 00052: val_loss did not improve\n",
      "409/409 [==============================] - 7s 17ms/step - loss: -0.9341 - dice_coef: 0.9341 - val_loss: -0.9305 - val_dice_coef: 0.9305\n",
      "Epoch 53/120\n",
      "384/409 [===========================>..] - ETA: 0s - loss: -0.9344 - dice_coef: 0.9344Epoch 00053: val_loss did not improve\n",
      "409/409 [==============================] - 7s 17ms/step - loss: -0.9341 - dice_coef: 0.9341 - val_loss: -0.9291 - val_dice_coef: 0.9291\n",
      "Epoch 54/120\n",
      "384/409 [===========================>..] - ETA: 0s - loss: -0.9325 - dice_coef: 0.9325Epoch 00054: val_loss did not improve\n",
      "409/409 [==============================] - 7s 17ms/step - loss: -0.9332 - dice_coef: 0.9332 - val_loss: -0.9317 - val_dice_coef: 0.9317\n",
      "Epoch 55/120\n"
     ]
    },
    {
     "name": "stdout",
     "output_type": "stream",
     "text": [
      "384/409 [===========================>..] - ETA: 0s - loss: -0.9341 - dice_coef: 0.9341Epoch 00055: val_loss did not improve\n",
      "409/409 [==============================] - 7s 17ms/step - loss: -0.9349 - dice_coef: 0.9349 - val_loss: -0.9313 - val_dice_coef: 0.9313\n",
      "Epoch 56/120\n",
      "384/409 [===========================>..] - ETA: 0s - loss: -0.9321 - dice_coef: 0.9321Epoch 00056: val_loss did not improve\n",
      "409/409 [==============================] - 7s 17ms/step - loss: -0.9319 - dice_coef: 0.9319 - val_loss: -0.9315 - val_dice_coef: 0.9315\n",
      "Epoch 57/120\n",
      "384/409 [===========================>..] - ETA: 0s - loss: -0.9340 - dice_coef: 0.9340Epoch 00057: val_loss did not improve\n",
      "409/409 [==============================] - 7s 17ms/step - loss: -0.9333 - dice_coef: 0.9333 - val_loss: -0.9314 - val_dice_coef: 0.9314\n",
      "Epoch 58/120\n",
      "384/409 [===========================>..] - ETA: 0s - loss: -0.9350 - dice_coef: 0.9350Epoch 00058: val_loss did not improve\n",
      "409/409 [==============================] - 7s 17ms/step - loss: -0.9354 - dice_coef: 0.9354 - val_loss: -0.9318 - val_dice_coef: 0.9318\n",
      "Epoch 59/120\n",
      "384/409 [===========================>..] - ETA: 0s - loss: -0.9339 - dice_coef: 0.9339Epoch 00059: val_loss did not improve\n",
      "409/409 [==============================] - 7s 17ms/step - loss: -0.9350 - dice_coef: 0.9350 - val_loss: -0.9311 - val_dice_coef: 0.9311\n",
      "Epoch 60/120\n",
      "384/409 [===========================>..] - ETA: 0s - loss: -0.9351 - dice_coef: 0.9351Epoch 00060: val_loss did not improve\n",
      "409/409 [==============================] - 7s 17ms/step - loss: -0.9345 - dice_coef: 0.9345 - val_loss: -0.9310 - val_dice_coef: 0.9310\n",
      "Epoch 61/120\n",
      "384/409 [===========================>..] - ETA: 0s - loss: -0.9335 - dice_coef: 0.9335Epoch 00061: val_loss did not improve\n",
      "409/409 [==============================] - 7s 17ms/step - loss: -0.9341 - dice_coef: 0.9341 - val_loss: -0.9276 - val_dice_coef: 0.9276\n",
      "Epoch 62/120\n",
      "384/409 [===========================>..] - ETA: 0s - loss: -0.9361 - dice_coef: 0.9361Epoch 00062: val_loss did not improve\n",
      "409/409 [==============================] - 7s 17ms/step - loss: -0.9356 - dice_coef: 0.9356 - val_loss: -0.9312 - val_dice_coef: 0.9312\n",
      "Epoch 63/120\n",
      "384/409 [===========================>..] - ETA: 0s - loss: -0.9356 - dice_coef: 0.9356Epoch 00063: val_loss did not improve\n",
      "409/409 [==============================] - 7s 17ms/step - loss: -0.9365 - dice_coef: 0.9365 - val_loss: -0.9304 - val_dice_coef: 0.9304\n",
      "Epoch 64/120\n",
      "384/409 [===========================>..] - ETA: 0s - loss: -0.9381 - dice_coef: 0.9381Epoch 00064: val_loss improved from -0.93205 to -0.93256, saving model to model_256_escuras_with_dice.h5\n",
      "409/409 [==============================] - 7s 17ms/step - loss: -0.9387 - dice_coef: 0.9387 - val_loss: -0.9326 - val_dice_coef: 0.9326\n",
      "Epoch 65/120\n",
      "384/409 [===========================>..] - ETA: 0s - loss: -0.9385 - dice_coef: 0.9385Epoch 00065: val_loss did not improve\n",
      "409/409 [==============================] - 7s 17ms/step - loss: -0.9385 - dice_coef: 0.9385 - val_loss: -0.9301 - val_dice_coef: 0.9301\n",
      "Epoch 66/120\n",
      "384/409 [===========================>..] - ETA: 0s - loss: -0.9408 - dice_coef: 0.9408Epoch 00066: val_loss did not improve\n",
      "409/409 [==============================] - 7s 17ms/step - loss: -0.9410 - dice_coef: 0.9410 - val_loss: -0.9317 - val_dice_coef: 0.9317\n",
      "Epoch 67/120\n",
      "384/409 [===========================>..] - ETA: 0s - loss: -0.9411 - dice_coef: 0.9411Epoch 00067: val_loss did not improve\n",
      "409/409 [==============================] - 7s 17ms/step - loss: -0.9419 - dice_coef: 0.9419 - val_loss: -0.9323 - val_dice_coef: 0.9323\n",
      "Epoch 68/120\n",
      "384/409 [===========================>..] - ETA: 0s - loss: -0.9394 - dice_coef: 0.9394Epoch 00068: val_loss improved from -0.93256 to -0.93268, saving model to model_256_escuras_with_dice.h5\n",
      "409/409 [==============================] - 7s 17ms/step - loss: -0.9403 - dice_coef: 0.9403 - val_loss: -0.9327 - val_dice_coef: 0.9327\n",
      "Epoch 69/120\n",
      "384/409 [===========================>..] - ETA: 0s - loss: -0.9405 - dice_coef: 0.9405Epoch 00069: val_loss did not improve\n",
      "409/409 [==============================] - 7s 17ms/step - loss: -0.9414 - dice_coef: 0.9414 - val_loss: -0.9315 - val_dice_coef: 0.9315\n",
      "Epoch 70/120\n",
      "384/409 [===========================>..] - ETA: 0s - loss: -0.9421 - dice_coef: 0.9421Epoch 00070: val_loss did not improve\n",
      "409/409 [==============================] - 7s 17ms/step - loss: -0.9420 - dice_coef: 0.9420 - val_loss: -0.9310 - val_dice_coef: 0.9310\n",
      "Epoch 71/120\n",
      "384/409 [===========================>..] - ETA: 0s - loss: -0.9422 - dice_coef: 0.9422Epoch 00071: val_loss did not improve\n",
      "409/409 [==============================] - 7s 17ms/step - loss: -0.9420 - dice_coef: 0.9420 - val_loss: -0.9315 - val_dice_coef: 0.9315\n",
      "Epoch 72/120\n",
      "384/409 [===========================>..] - ETA: 0s - loss: -0.9439 - dice_coef: 0.9439Epoch 00072: val_loss did not improve\n",
      "409/409 [==============================] - 7s 17ms/step - loss: -0.9416 - dice_coef: 0.9416 - val_loss: -0.9307 - val_dice_coef: 0.9307\n",
      "Epoch 73/120\n",
      "384/409 [===========================>..] - ETA: 0s - loss: -0.9431 - dice_coef: 0.9431Epoch 00073: val_loss did not improve\n",
      "409/409 [==============================] - 7s 17ms/step - loss: -0.9415 - dice_coef: 0.9415 - val_loss: -0.9311 - val_dice_coef: 0.9311\n",
      "Epoch 74/120\n",
      "384/409 [===========================>..] - ETA: 0s - loss: -0.9422 - dice_coef: 0.9422Epoch 00074: val_loss did not improve\n",
      "409/409 [==============================] - 7s 17ms/step - loss: -0.9427 - dice_coef: 0.9427 - val_loss: -0.9311 - val_dice_coef: 0.9311\n",
      "Epoch 75/120\n",
      "384/409 [===========================>..] - ETA: 0s - loss: -0.9432 - dice_coef: 0.9432Epoch 00075: val_loss did not improve\n",
      "409/409 [==============================] - 7s 17ms/step - loss: -0.9441 - dice_coef: 0.9441 - val_loss: -0.9313 - val_dice_coef: 0.9313\n",
      "Epoch 76/120\n",
      "384/409 [===========================>..] - ETA: 0s - loss: -0.9444 - dice_coef: 0.9444Epoch 00076: val_loss did not improve\n",
      "409/409 [==============================] - 7s 17ms/step - loss: -0.9448 - dice_coef: 0.9448 - val_loss: -0.9311 - val_dice_coef: 0.9311\n",
      "Epoch 77/120\n",
      "384/409 [===========================>..] - ETA: 0s - loss: -0.9464 - dice_coef: 0.9464Epoch 00077: val_loss did not improve\n",
      "409/409 [==============================] - 7s 17ms/step - loss: -0.9443 - dice_coef: 0.9443 - val_loss: -0.9307 - val_dice_coef: 0.9307\n",
      "Epoch 78/120\n",
      "384/409 [===========================>..] - ETA: 0s - loss: -0.9449 - dice_coef: 0.9449Epoch 00078: val_loss did not improve\n",
      "409/409 [==============================] - 7s 17ms/step - loss: -0.9456 - dice_coef: 0.9456 - val_loss: -0.9322 - val_dice_coef: 0.9322\n",
      "Epoch 79/120\n",
      "384/409 [===========================>..] - ETA: 0s - loss: -0.9464 - dice_coef: 0.9464Epoch 00079: val_loss did not improve\n",
      "409/409 [==============================] - 7s 17ms/step - loss: -0.9468 - dice_coef: 0.9468 - val_loss: -0.9320 - val_dice_coef: 0.9320\n",
      "Epoch 80/120\n",
      "384/409 [===========================>..] - ETA: 0s - loss: -0.9477 - dice_coef: 0.9477Epoch 00080: val_loss did not improve\n",
      "409/409 [==============================] - 7s 17ms/step - loss: -0.9478 - dice_coef: 0.9478 - val_loss: -0.9324 - val_dice_coef: 0.9324\n",
      "Epoch 81/120\n",
      "384/409 [===========================>..] - ETA: 0s - loss: -0.9476 - dice_coef: 0.9476Epoch 00081: val_loss did not improve\n",
      "409/409 [==============================] - 7s 17ms/step - loss: -0.9482 - dice_coef: 0.9482 - val_loss: -0.9322 - val_dice_coef: 0.9322\n",
      "Epoch 82/120\n",
      "384/409 [===========================>..] - ETA: 0s - loss: -0.9482 - dice_coef: 0.9482Epoch 00082: val_loss did not improve\n",
      "409/409 [==============================] - 7s 17ms/step - loss: -0.9482 - dice_coef: 0.9482 - val_loss: -0.9326 - val_dice_coef: 0.9326\n",
      "Epoch 83/120\n",
      "384/409 [===========================>..] - ETA: 0s - loss: -0.9493 - dice_coef: 0.9493Epoch 00083: val_loss did not improve\n",
      "409/409 [==============================] - 7s 17ms/step - loss: -0.9487 - dice_coef: 0.9487 - val_loss: -0.9324 - val_dice_coef: 0.9324\n",
      "Epoch 00083: early stopping\n"
     ]
    }
   ],
   "source": [
    "# Fit model\n",
    "earlystopper = EarlyStopping(patience=15, verbose=1)\n",
    "checkpointer = ModelCheckpoint('model_256_escuras_with_dice.h5', verbose=1, save_best_only=True)\n",
    "results = model.fit(X_tr, y_tr, validation_data=(X_te, y_te), batch_size=32, epochs=120, \n",
    "                    callbacks=[earlystopper, checkpointer])"
   ]
  },
  {
   "cell_type": "code",
   "execution_count": 21,
   "metadata": {
    "collapsed": true
   },
   "outputs": [],
   "source": [
    "model.load_weights('./model_256_escuras_with_dice.h5')"
   ]
  },
  {
   "cell_type": "code",
   "execution_count": 22,
   "metadata": {},
   "outputs": [
    {
     "name": "stdout",
     "output_type": "stream",
     "text": [
      "137/137 [==============================] - 1s 4ms/step\n"
     ]
    }
   ],
   "source": [
    "y_prev = model.predict(X_te, verbose=1)"
   ]
  },
  {
   "cell_type": "code",
   "execution_count": 71,
   "metadata": {
    "collapsed": true
   },
   "outputs": [],
   "source": [
    "dices_escuras = []\n",
    "for i in range(len(X_te)):\n",
    "    dices_escuras.append(dice(y_prev[i] > .5, y_te[i]))\n",
    "dices_escuras = np.array(dices_escuras)"
   ]
  },
  {
   "cell_type": "code",
   "execution_count": 72,
   "metadata": {},
   "outputs": [
    {
     "name": "stdout",
     "output_type": "stream",
     "text": [
      "Average dice:  0.926934415934\n",
      "Worst dice:  0.774056258571\n",
      "Best dice:  0.981054822499\n",
      "Median:  0.941196121614\n"
     ]
    }
   ],
   "source": [
    "print 'Average dice: ', np.mean(dices_escuras)\n",
    "print 'Worst dice: ', np.min(dices_escuras)\n",
    "print 'Best dice: ', np.max(dices_escuras)\n",
    "print 'Median: ', np.median(dices_escuras)"
   ]
  },
  {
   "cell_type": "code",
   "execution_count": 76,
   "metadata": {
    "scrolled": true
   },
   "outputs": [
    {
     "data": {
      "application/vnd.jupyter.widget-view+json": {
       "model_id": "55f36c1e84b54a53bfba0459e7717b99"
      }
     },
     "metadata": {},
     "output_type": "display_data"
    },
    {
     "data": {
      "text/plain": [
       "<function __main__.display_images>"
      ]
     },
     "execution_count": 76,
     "metadata": {},
     "output_type": "execute_result"
    }
   ],
   "source": [
    "interact(display_images, index = (0, len(X_te)-1),img=fixed(X_te), prev=fixed(y_prev), mask = fixed(y_te))"
   ]
  },
  {
   "cell_type": "markdown",
   "metadata": {},
   "source": [
    "### Escuras"
   ]
  },
  {
   "cell_type": "code",
   "execution_count": 77,
   "metadata": {
    "collapsed": true
   },
   "outputs": [],
   "source": [
    "X_claras = X_train[dict_['Clara']]\n",
    "y_claras = Y_train[dict_['Clara']]"
   ]
  },
  {
   "cell_type": "code",
   "execution_count": 86,
   "metadata": {},
   "outputs": [],
   "source": [
    "from pre_train import data_augmentation"
   ]
  },
  {
   "cell_type": "code",
   "execution_count": 80,
   "metadata": {
    "collapsed": true
   },
   "outputs": [],
   "source": [
    "X_tr_cla, X_te_cla, y_tr_cla, y_te_cla = train_test_split(X_claras, y_claras, test_size = 0.25, random_state=42)"
   ]
  },
  {
   "cell_type": "code",
   "execution_count": 166,
   "metadata": {},
   "outputs": [],
   "source": [
    "def z_score(img):\n",
    "    return (img - K.mean(img)) / K.std(img)"
   ]
  },
  {
   "cell_type": "code",
   "execution_count": 167,
   "metadata": {
    "collapsed": true
   },
   "outputs": [],
   "source": [
    "def get_unet_grayscale(IMG_WIDTH=256,IMG_HEIGHT=256,IMG_CHANNELS=3):\n",
    "    inputs = Input((IMG_WIDTH, IMG_HEIGHT, IMG_CHANNELS))\n",
    "    s = Lambda(lambda x: z_score(x)) (inputs)\n",
    "    c1 = Conv2D(16, (3, 3), activation='elu', kernel_initializer='he_normal', padding='same') (s)\n",
    "    c1 = Dropout(0.1) (c1)\n",
    "    c1 = Conv2D(16, (3, 3), activation='elu', kernel_initializer='he_normal', padding='same') (c1)\n",
    "    p1 = MaxPooling2D((2, 2)) (c1)\n",
    "    c2 = Conv2D(32, (3, 3), activation='elu', kernel_initializer='he_normal', padding='same') (p1)\n",
    "    c2 = Dropout(0.1) (c2)\n",
    "    c2 = Conv2D(32, (3, 3), activation='elu', kernel_initializer='he_normal', padding='same') (c2)\n",
    "    p2 = MaxPooling2D((2, 2)) (c2)\n",
    "\n",
    "    c3 = Conv2D(64, (3, 3), activation='elu', kernel_initializer='he_normal', padding='same') (p2)\n",
    "    c3 = Dropout(0.2) (c3)\n",
    "    c3 = Conv2D(64, (3, 3), activation='elu', kernel_initializer='he_normal', padding='same') (c3)\n",
    "    p3 = MaxPooling2D((2, 2)) (c3)\n",
    "\n",
    "    c4 = Conv2D(128, (3, 3), activation='elu', kernel_initializer='he_normal', padding='same') (p3)\n",
    "    c4 = Dropout(0.2) (c4)\n",
    "    c4 = Conv2D(128, (3, 3), activation='elu', kernel_initializer='he_normal', padding='same') (c4)\n",
    "    p4 = MaxPooling2D(pool_size=(2, 2)) (c4)\n",
    "\n",
    "    c5 = Conv2D(256, (3, 3), activation='elu', kernel_initializer='he_normal', padding='same') (p4)\n",
    "    c5 = Dropout(0.3) (c5)\n",
    "    c5 = Conv2D(256, (3, 3), activation='elu', kernel_initializer='he_normal', padding='same') (c5)\n",
    "\n",
    "    u6 = Conv2DTranspose(128, (2, 2), strides=(2, 2), padding='same') (c5)\n",
    "    u6 = concatenate([u6, c4])\n",
    "    c6 = Conv2D(128, (3, 3), activation='elu', kernel_initializer='he_normal', padding='same') (u6)\n",
    "    c6 = Dropout(0.2) (c6)\n",
    "    c6 = Conv2D(128, (3, 3), activation='elu', kernel_initializer='he_normal', padding='same') (c6)\n",
    "\n",
    "    u7 = Conv2DTranspose(64, (2, 2), strides=(2, 2), padding='same') (c6)\n",
    "    u7 = concatenate([u7, c3])\n",
    "    c7 = Conv2D(64, (3, 3), activation='elu', kernel_initializer='he_normal', padding='same') (u7)\n",
    "    c7 = Dropout(0.2) (c7)\n",
    "    c7 = Conv2D(64, (3, 3), activation='elu', kernel_initializer='he_normal', padding='same') (c7)\n",
    "\n",
    "    u8 = Conv2DTranspose(32, (2, 2), strides=(2, 2), padding='same') (c7)\n",
    "    u8 = concatenate([u8, c2])\n",
    "    c8 = Conv2D(32, (3, 3), activation='elu', kernel_initializer='he_normal', padding='same') (u8)\n",
    "    c8 = Dropout(0.1) (c8)\n",
    "    c8 = Conv2D(32, (3, 3), activation='elu', kernel_initializer='he_normal', padding='same') (c8)\n",
    "\n",
    "    u9 = Conv2DTranspose(16, (2, 2), strides=(2, 2), padding='same') (c8)\n",
    "    u9 = concatenate([u9, c1], axis=3)\n",
    "    c9 = Conv2D(16, (3, 3), activation='elu', kernel_initializer='he_normal', padding='same') (u9)\n",
    "    c9 = Dropout(0.1) (c9)\n",
    "    c9 = Conv2D(16, (3, 3), activation='elu', kernel_initializer='he_normal', padding='same') (c9)\n",
    "\n",
    "    outputs = Conv2D(1, (1, 1), activation='sigmoid', data_format=\"channels_last\") (c9)\n",
    "\n",
    "    model = keras_Model(inputs=[inputs], outputs=[outputs])\n",
    "    model.compile(optimizer='adam',loss=dice_coef_loss, metrics=[dice_coef])\n",
    "    return model"
   ]
  },
  {
   "cell_type": "code",
   "execution_count": 110,
   "metadata": {},
   "outputs": [
    {
     "data": {
      "application/vnd.jupyter.widget-view+json": {
       "model_id": "8c6341fd9a6e49269f8ba1662adc97ac"
      }
     },
     "metadata": {},
     "output_type": "display_data"
    },
    {
     "name": "stdout",
     "output_type": "stream",
     "text": [
      "\n"
     ]
    },
    {
     "data": {
      "application/vnd.jupyter.widget-view+json": {
       "model_id": "8a0951d11da548a3b9e725828ed8edbf"
      }
     },
     "metadata": {},
     "output_type": "display_data"
    },
    {
     "name": "stdout",
     "output_type": "stream",
     "text": [
      "\n"
     ]
    }
   ],
   "source": [
    "X_tr_gray = []\n",
    "X_te_gray = []\n",
    "for img in tqdm_notebook(X_tr_cla):\n",
    "    X_tr_gray.append(rgb2gray(img))\n",
    "for img in tqdm_notebook(X_te_cla):\n",
    "    X_te_gray.append(rgb2gray(img))\n",
    "\n",
    "X_tr_gray = np.array(X_tr_gray)\n",
    "X_te_gray = np.array(X_te_gray)"
   ]
  },
  {
   "cell_type": "code",
   "execution_count": 123,
   "metadata": {},
   "outputs": [],
   "source": [
    "X_tr_gray = pre_reshape(X_tr_gray) \n",
    "X_te_gray = pre_reshape(X_te_gray)"
   ]
  },
  {
   "cell_type": "code",
   "execution_count": 157,
   "metadata": {},
   "outputs": [],
   "source": [
    "aug = data_augmentation(X_tr_gray, y_tr_cla, horizontal_flip=True, translation_range=(.05,.05), vertical_flip=True, zoom_range=0)"
   ]
  },
  {
   "cell_type": "code",
   "execution_count": 168,
   "metadata": {},
   "outputs": [],
   "source": [
    "model = get_unet_grayscale(IMG_WIDTH=256, IMG_HEIGHT=256, IMG_CHANNELS=1)"
   ]
  },
  {
   "cell_type": "code",
   "execution_count": 174,
   "metadata": {},
   "outputs": [
    {
     "name": "stdout",
     "output_type": "stream",
     "text": [
      "Train on 93 samples, validate on 31 samples\n",
      "Epoch 1/120\n",
      "64/93 [===================>..........] - ETA: 0s - loss: -0.7409 - dice_coef: 0.7409Epoch 00001: val_loss improved from inf to -0.81236, saving model to model_256_claras_with_dice.h5\n",
      "93/93 [==============================] - 2s 18ms/step - loss: -0.7441 - dice_coef: 0.7441 - val_loss: -0.8124 - val_dice_coef: 0.8124\n",
      "Epoch 2/120\n",
      "64/93 [===================>..........] - ETA: 0s - loss: -0.8005 - dice_coef: 0.8005Epoch 00002: val_loss did not improve\n",
      "93/93 [==============================] - 2s 17ms/step - loss: -0.7448 - dice_coef: 0.7448 - val_loss: -0.7912 - val_dice_coef: 0.7912\n",
      "Epoch 3/120\n",
      "64/93 [===================>..........] - ETA: 0s - loss: -0.7883 - dice_coef: 0.7883Epoch 00003: val_loss improved from -0.81236 to -0.83184, saving model to model_256_claras_with_dice.h5\n",
      "93/93 [==============================] - 2s 19ms/step - loss: -0.8037 - dice_coef: 0.8037 - val_loss: -0.8318 - val_dice_coef: 0.8318\n",
      "Epoch 4/120\n",
      "64/93 [===================>..........] - ETA: 0s - loss: -0.8253 - dice_coef: 0.8253Epoch 00004: val_loss improved from -0.83184 to -0.83491, saving model to model_256_claras_with_dice.h5\n",
      "93/93 [==============================] - 2s 19ms/step - loss: -0.8196 - dice_coef: 0.8196 - val_loss: -0.8349 - val_dice_coef: 0.8349\n",
      "Epoch 5/120\n",
      "64/93 [===================>..........] - ETA: 0s - loss: -0.8090 - dice_coef: 0.8090Epoch 00005: val_loss did not improve\n",
      "93/93 [==============================] - 2s 18ms/step - loss: -0.8061 - dice_coef: 0.8061 - val_loss: -0.7807 - val_dice_coef: 0.7807\n",
      "Epoch 6/120\n",
      "64/93 [===================>..........] - ETA: 0s - loss: -0.7872 - dice_coef: 0.7872Epoch 00006: val_loss did not improve\n",
      "93/93 [==============================] - 2s 18ms/step - loss: -0.8007 - dice_coef: 0.8007 - val_loss: -0.7658 - val_dice_coef: 0.7658\n",
      "Epoch 7/120\n",
      "64/93 [===================>..........] - ETA: 0s - loss: -0.8327 - dice_coef: 0.8327Epoch 00007: val_loss did not improve\n",
      "93/93 [==============================] - 2s 17ms/step - loss: -0.8151 - dice_coef: 0.8151 - val_loss: -0.8158 - val_dice_coef: 0.8158\n",
      "Epoch 8/120\n",
      "64/93 [===================>..........] - ETA: 0s - loss: -0.7978 - dice_coef: 0.7978Epoch 00008: val_loss did not improve\n",
      "93/93 [==============================] - 2s 17ms/step - loss: -0.8096 - dice_coef: 0.8096 - val_loss: -0.8211 - val_dice_coef: 0.8211\n",
      "Epoch 9/120\n",
      "64/93 [===================>..........] - ETA: 0s - loss: -0.8055 - dice_coef: 0.8055Epoch 00009: val_loss improved from -0.83491 to -0.83671, saving model to model_256_claras_with_dice.h5\n",
      "93/93 [==============================] - 2s 18ms/step - loss: -0.8211 - dice_coef: 0.8211 - val_loss: -0.8367 - val_dice_coef: 0.8367\n",
      "Epoch 10/120\n",
      "64/93 [===================>..........] - ETA: 0s - loss: -0.8377 - dice_coef: 0.8377Epoch 00010: val_loss improved from -0.83671 to -0.84161, saving model to model_256_claras_with_dice.h5\n",
      "93/93 [==============================] - 2s 19ms/step - loss: -0.8280 - dice_coef: 0.8280 - val_loss: -0.8416 - val_dice_coef: 0.8416\n",
      "Epoch 11/120\n",
      "64/93 [===================>..........] - ETA: 0s - loss: -0.8189 - dice_coef: 0.8189Epoch 00011: val_loss did not improve\n",
      "93/93 [==============================] - 2s 17ms/step - loss: -0.8276 - dice_coef: 0.8276 - val_loss: -0.8390 - val_dice_coef: 0.8390\n",
      "Epoch 12/120\n",
      "64/93 [===================>..........] - ETA: 0s - loss: -0.8128 - dice_coef: 0.8128Epoch 00012: val_loss improved from -0.84161 to -0.84262, saving model to model_256_claras_with_dice.h5\n",
      "93/93 [==============================] - 2s 19ms/step - loss: -0.8251 - dice_coef: 0.8251 - val_loss: -0.8426 - val_dice_coef: 0.8426\n",
      "Epoch 13/120\n",
      "64/93 [===================>..........] - ETA: 0s - loss: -0.8257 - dice_coef: 0.8257Epoch 00013: val_loss improved from -0.84262 to -0.84458, saving model to model_256_claras_with_dice.h5\n",
      "93/93 [==============================] - 2s 19ms/step - loss: -0.8309 - dice_coef: 0.8309 - val_loss: -0.8446 - val_dice_coef: 0.8446\n",
      "Epoch 14/120\n",
      "64/93 [===================>..........] - ETA: 0s - loss: -0.8251 - dice_coef: 0.8251Epoch 00014: val_loss improved from -0.84458 to -0.84548, saving model to model_256_claras_with_dice.h5\n",
      "93/93 [==============================] - 2s 18ms/step - loss: -0.8353 - dice_coef: 0.8353 - val_loss: -0.8455 - val_dice_coef: 0.8455\n",
      "Epoch 15/120\n",
      "64/93 [===================>..........] - ETA: 0s - loss: -0.8384 - dice_coef: 0.8384Epoch 00015: val_loss improved from -0.84548 to -0.84628, saving model to model_256_claras_with_dice.h5\n",
      "93/93 [==============================] - 2s 19ms/step - loss: -0.8334 - dice_coef: 0.8334 - val_loss: -0.8463 - val_dice_coef: 0.8463\n",
      "Epoch 16/120\n",
      "64/93 [===================>..........] - ETA: 0s - loss: -0.8463 - dice_coef: 0.8463Epoch 00016: val_loss did not improve\n",
      "93/93 [==============================] - 2s 17ms/step - loss: -0.8368 - dice_coef: 0.8368 - val_loss: -0.8459 - val_dice_coef: 0.8459\n",
      "Epoch 17/120\n",
      "64/93 [===================>..........] - ETA: 0s - loss: -0.8204 - dice_coef: 0.8204Epoch 00017: val_loss improved from -0.84628 to -0.84968, saving model to model_256_claras_with_dice.h5\n",
      "93/93 [==============================] - 2s 19ms/step - loss: -0.8311 - dice_coef: 0.8311 - val_loss: -0.8497 - val_dice_coef: 0.8497\n",
      "Epoch 18/120\n",
      "64/93 [===================>..........] - ETA: 0s - loss: -0.8304 - dice_coef: 0.8304Epoch 00018: val_loss did not improve\n",
      "93/93 [==============================] - 2s 17ms/step - loss: -0.8391 - dice_coef: 0.8391 - val_loss: -0.8449 - val_dice_coef: 0.8449\n",
      "Epoch 19/120\n",
      "64/93 [===================>..........] - ETA: 0s - loss: -0.8359 - dice_coef: 0.8359Epoch 00019: val_loss improved from -0.84968 to -0.85166, saving model to model_256_claras_with_dice.h5\n",
      "93/93 [==============================] - 2s 19ms/step - loss: -0.8366 - dice_coef: 0.8366 - val_loss: -0.8517 - val_dice_coef: 0.8517\n",
      "Epoch 20/120\n",
      "64/93 [===================>..........] - ETA: 0s - loss: -0.8286 - dice_coef: 0.8286Epoch 00020: val_loss improved from -0.85166 to -0.85215, saving model to model_256_claras_with_dice.h5\n",
      "93/93 [==============================] - 2s 19ms/step - loss: -0.8368 - dice_coef: 0.8368 - val_loss: -0.8521 - val_dice_coef: 0.8521\n",
      "Epoch 21/120\n",
      "64/93 [===================>..........] - ETA: 0s - loss: -0.8471 - dice_coef: 0.8471Epoch 00021: val_loss did not improve\n",
      "93/93 [==============================] - 2s 17ms/step - loss: -0.8407 - dice_coef: 0.8407 - val_loss: -0.8509 - val_dice_coef: 0.8509\n",
      "Epoch 22/120\n",
      "64/93 [===================>..........] - ETA: 0s - loss: -0.8552 - dice_coef: 0.8552Epoch 00022: val_loss improved from -0.85215 to -0.85519, saving model to model_256_claras_with_dice.h5\n",
      "93/93 [==============================] - 2s 19ms/step - loss: -0.8394 - dice_coef: 0.8394 - val_loss: -0.8552 - val_dice_coef: 0.8552\n",
      "Epoch 23/120\n",
      "64/93 [===================>..........] - ETA: 0s - loss: -0.8338 - dice_coef: 0.8338Epoch 00023: val_loss did not improve\n",
      "93/93 [==============================] - 2s 17ms/step - loss: -0.8403 - dice_coef: 0.8403 - val_loss: -0.8529 - val_dice_coef: 0.8529\n",
      "Epoch 24/120\n",
      "64/93 [===================>..........] - ETA: 0s - loss: -0.8254 - dice_coef: 0.8254Epoch 00024: val_loss improved from -0.85519 to -0.85720, saving model to model_256_claras_with_dice.h5\n",
      "93/93 [==============================] - 2s 19ms/step - loss: -0.8355 - dice_coef: 0.8355 - val_loss: -0.8572 - val_dice_coef: 0.8572\n",
      "Epoch 25/120\n",
      "64/93 [===================>..........] - ETA: 0s - loss: -0.8424 - dice_coef: 0.8424Epoch 00025: val_loss did not improve\n",
      "93/93 [==============================] - 2s 17ms/step - loss: -0.8424 - dice_coef: 0.8424 - val_loss: -0.8520 - val_dice_coef: 0.8520\n",
      "Epoch 26/120\n",
      "64/93 [===================>..........] - ETA: 0s - loss: -0.8392 - dice_coef: 0.8392Epoch 00026: val_loss did not improve\n",
      "93/93 [==============================] - 2s 17ms/step - loss: -0.8409 - dice_coef: 0.8409 - val_loss: -0.8537 - val_dice_coef: 0.8537\n",
      "Epoch 27/120\n",
      "64/93 [===================>..........] - ETA: 0s - loss: -0.8565 - dice_coef: 0.8565Epoch 00027: val_loss improved from -0.85720 to -0.86100, saving model to model_256_claras_with_dice.h5\n",
      "93/93 [==============================] - 2s 18ms/step - loss: -0.8430 - dice_coef: 0.8430 - val_loss: -0.8610 - val_dice_coef: 0.8610\n"
     ]
    },
    {
     "name": "stdout",
     "output_type": "stream",
     "text": [
      "Epoch 28/120\n",
      "64/93 [===================>..........] - ETA: 0s - loss: -0.8462 - dice_coef: 0.8462Epoch 00028: val_loss did not improve\n",
      "93/93 [==============================] - 2s 17ms/step - loss: -0.8447 - dice_coef: 0.8447 - val_loss: -0.8600 - val_dice_coef: 0.8600\n",
      "Epoch 29/120\n",
      "64/93 [===================>..........] - ETA: 0s - loss: -0.8472 - dice_coef: 0.8472Epoch 00029: val_loss did not improve\n",
      "93/93 [==============================] - 2s 17ms/step - loss: -0.8466 - dice_coef: 0.8466 - val_loss: -0.8601 - val_dice_coef: 0.8601\n",
      "Epoch 30/120\n",
      "64/93 [===================>..........] - ETA: 0s - loss: -0.8535 - dice_coef: 0.8535Epoch 00030: val_loss did not improve\n",
      "93/93 [==============================] - 2s 17ms/step - loss: -0.8486 - dice_coef: 0.8486 - val_loss: -0.8585 - val_dice_coef: 0.8585\n",
      "Epoch 31/120\n",
      "64/93 [===================>..........] - ETA: 0s - loss: -0.8457 - dice_coef: 0.8457Epoch 00031: val_loss did not improve\n",
      "93/93 [==============================] - 2s 17ms/step - loss: -0.8458 - dice_coef: 0.8458 - val_loss: -0.8560 - val_dice_coef: 0.8560\n",
      "Epoch 32/120\n",
      "64/93 [===================>..........] - ETA: 0s - loss: -0.8424 - dice_coef: 0.8424Epoch 00032: val_loss did not improve\n",
      "93/93 [==============================] - 2s 17ms/step - loss: -0.8463 - dice_coef: 0.8463 - val_loss: -0.8545 - val_dice_coef: 0.8545\n",
      "Epoch 33/120\n",
      "64/93 [===================>..........] - ETA: 0s - loss: -0.8496 - dice_coef: 0.8496Epoch 00033: val_loss improved from -0.86100 to -0.86239, saving model to model_256_claras_with_dice.h5\n",
      "93/93 [==============================] - 2s 18ms/step - loss: -0.8413 - dice_coef: 0.8413 - val_loss: -0.8624 - val_dice_coef: 0.8624\n",
      "Epoch 34/120\n",
      "64/93 [===================>..........] - ETA: 0s - loss: -0.8449 - dice_coef: 0.8449Epoch 00034: val_loss did not improve\n",
      "93/93 [==============================] - 2s 17ms/step - loss: -0.8466 - dice_coef: 0.8466 - val_loss: -0.8544 - val_dice_coef: 0.8544\n",
      "Epoch 35/120\n",
      "64/93 [===================>..........] - ETA: 0s - loss: -0.8321 - dice_coef: 0.8321Epoch 00035: val_loss did not improve\n",
      "93/93 [==============================] - 2s 17ms/step - loss: -0.8420 - dice_coef: 0.8420 - val_loss: -0.8515 - val_dice_coef: 0.8515\n",
      "Epoch 36/120\n",
      "64/93 [===================>..........] - ETA: 0s - loss: -0.8505 - dice_coef: 0.8505Epoch 00036: val_loss improved from -0.86239 to -0.86329, saving model to model_256_claras_with_dice.h5\n",
      "93/93 [==============================] - 2s 19ms/step - loss: -0.8475 - dice_coef: 0.8475 - val_loss: -0.8633 - val_dice_coef: 0.8633\n",
      "Epoch 37/120\n",
      "64/93 [===================>..........] - ETA: 0s - loss: -0.8633 - dice_coef: 0.8633Epoch 00037: val_loss did not improve\n",
      "93/93 [==============================] - 2s 17ms/step - loss: -0.8490 - dice_coef: 0.8490 - val_loss: -0.8533 - val_dice_coef: 0.8533\n",
      "Epoch 38/120\n",
      "64/93 [===================>..........] - ETA: 0s - loss: -0.8368 - dice_coef: 0.8368Epoch 00038: val_loss did not improve\n",
      "93/93 [==============================] - 2s 17ms/step - loss: -0.8480 - dice_coef: 0.8480 - val_loss: -0.8604 - val_dice_coef: 0.8604\n",
      "Epoch 39/120\n",
      "64/93 [===================>..........] - ETA: 0s - loss: -0.8468 - dice_coef: 0.8468Epoch 00039: val_loss did not improve\n",
      "93/93 [==============================] - 2s 17ms/step - loss: -0.8456 - dice_coef: 0.8456 - val_loss: -0.8596 - val_dice_coef: 0.8596\n",
      "Epoch 40/120\n",
      "64/93 [===================>..........] - ETA: 0s - loss: -0.8596 - dice_coef: 0.8596Epoch 00040: val_loss did not improve\n",
      "93/93 [==============================] - 2s 17ms/step - loss: -0.8475 - dice_coef: 0.8475 - val_loss: -0.8554 - val_dice_coef: 0.8554\n",
      "Epoch 41/120\n",
      "64/93 [===================>..........] - ETA: 0s - loss: -0.8421 - dice_coef: 0.8421Epoch 00041: val_loss did not improve\n",
      "93/93 [==============================] - 2s 17ms/step - loss: -0.8484 - dice_coef: 0.8484 - val_loss: -0.8602 - val_dice_coef: 0.8602\n",
      "Epoch 42/120\n",
      "64/93 [===================>..........] - ETA: 0s - loss: -0.8364 - dice_coef: 0.8364Epoch 00042: val_loss did not improve\n",
      "93/93 [==============================] - 2s 17ms/step - loss: -0.8491 - dice_coef: 0.8491 - val_loss: -0.8598 - val_dice_coef: 0.8598\n",
      "Epoch 43/120\n",
      "64/93 [===================>..........] - ETA: 0s - loss: -0.8395 - dice_coef: 0.8395Epoch 00043: val_loss did not improve\n",
      "93/93 [==============================] - 2s 17ms/step - loss: -0.8476 - dice_coef: 0.8476 - val_loss: -0.8622 - val_dice_coef: 0.8622\n",
      "Epoch 44/120\n",
      "64/93 [===================>..........] - ETA: 0s - loss: -0.8646 - dice_coef: 0.8646Epoch 00044: val_loss did not improve\n",
      "93/93 [==============================] - 2s 17ms/step - loss: -0.8519 - dice_coef: 0.8519 - val_loss: -0.8561 - val_dice_coef: 0.8561\n",
      "Epoch 45/120\n",
      "64/93 [===================>..........] - ETA: 0s - loss: -0.8430 - dice_coef: 0.8430Epoch 00045: val_loss did not improve\n",
      "93/93 [==============================] - 2s 17ms/step - loss: -0.8547 - dice_coef: 0.8547 - val_loss: -0.8598 - val_dice_coef: 0.8598\n",
      "Epoch 46/120\n",
      "64/93 [===================>..........] - ETA: 0s - loss: -0.8594 - dice_coef: 0.8594Epoch 00046: val_loss did not improve\n",
      "93/93 [==============================] - 2s 17ms/step - loss: -0.8527 - dice_coef: 0.8527 - val_loss: -0.8613 - val_dice_coef: 0.8613\n",
      "Epoch 47/120\n",
      "64/93 [===================>..........] - ETA: 0s - loss: -0.8468 - dice_coef: 0.8468Epoch 00047: val_loss improved from -0.86329 to -0.86411, saving model to model_256_claras_with_dice.h5\n",
      "93/93 [==============================] - 2s 19ms/step - loss: -0.8572 - dice_coef: 0.8572 - val_loss: -0.8641 - val_dice_coef: 0.8641\n",
      "Epoch 48/120\n",
      "64/93 [===================>..........] - ETA: 0s - loss: -0.8485 - dice_coef: 0.8485Epoch 00048: val_loss improved from -0.86411 to -0.86604, saving model to model_256_claras_with_dice.h5\n",
      "93/93 [==============================] - 2s 18ms/step - loss: -0.8566 - dice_coef: 0.8566 - val_loss: -0.8660 - val_dice_coef: 0.8660\n",
      "Epoch 49/120\n",
      "64/93 [===================>..........] - ETA: 0s - loss: -0.8554 - dice_coef: 0.8554Epoch 00049: val_loss did not improve\n",
      "93/93 [==============================] - 2s 17ms/step - loss: -0.8557 - dice_coef: 0.8557 - val_loss: -0.8594 - val_dice_coef: 0.8594\n",
      "Epoch 50/120\n",
      "64/93 [===================>..........] - ETA: 0s - loss: -0.8592 - dice_coef: 0.8592Epoch 00050: val_loss did not improve\n",
      "93/93 [==============================] - 2s 17ms/step - loss: -0.8549 - dice_coef: 0.8549 - val_loss: -0.8617 - val_dice_coef: 0.8617\n",
      "Epoch 51/120\n",
      "64/93 [===================>..........] - ETA: 0s - loss: -0.8427 - dice_coef: 0.8427Epoch 00051: val_loss did not improve\n",
      "93/93 [==============================] - 2s 17ms/step - loss: -0.8508 - dice_coef: 0.8508 - val_loss: -0.8628 - val_dice_coef: 0.8628\n",
      "Epoch 52/120\n",
      "64/93 [===================>..........] - ETA: 0s - loss: -0.8502 - dice_coef: 0.8502Epoch 00052: val_loss did not improve\n",
      "93/93 [==============================] - 2s 17ms/step - loss: -0.8566 - dice_coef: 0.8566 - val_loss: -0.8604 - val_dice_coef: 0.8604\n",
      "Epoch 53/120\n",
      "64/93 [===================>..........] - ETA: 0s - loss: -0.8502 - dice_coef: 0.8502Epoch 00053: val_loss did not improve\n",
      "93/93 [==============================] - 2s 17ms/step - loss: -0.8586 - dice_coef: 0.8586 - val_loss: -0.8656 - val_dice_coef: 0.8656\n",
      "Epoch 54/120\n",
      "64/93 [===================>..........] - ETA: 0s - loss: -0.8762 - dice_coef: 0.8762Epoch 00054: val_loss did not improve\n",
      "93/93 [==============================] - 2s 17ms/step - loss: -0.8500 - dice_coef: 0.8500 - val_loss: -0.8418 - val_dice_coef: 0.8418\n",
      "Epoch 55/120\n",
      "64/93 [===================>..........] - ETA: 0s - loss: -0.8611 - dice_coef: 0.8611Epoch 00055: val_loss did not improve\n",
      "93/93 [==============================] - 2s 17ms/step - loss: -0.8577 - dice_coef: 0.8577 - val_loss: -0.8604 - val_dice_coef: 0.8604\n",
      "Epoch 56/120\n",
      "64/93 [===================>..........] - ETA: 0s - loss: -0.8699 - dice_coef: 0.8699Epoch 00056: val_loss did not improve\n",
      "93/93 [==============================] - 2s 17ms/step - loss: -0.8548 - dice_coef: 0.8548 - val_loss: -0.8633 - val_dice_coef: 0.8633\n",
      "Epoch 57/120\n",
      "64/93 [===================>..........] - ETA: 0s - loss: -0.8718 - dice_coef: 0.8718Epoch 00057: val_loss improved from -0.86604 to -0.86732, saving model to model_256_claras_with_dice.h5\n",
      "93/93 [==============================] - 2s 18ms/step - loss: -0.8607 - dice_coef: 0.8607 - val_loss: -0.8673 - val_dice_coef: 0.8673\n"
     ]
    },
    {
     "name": "stdout",
     "output_type": "stream",
     "text": [
      "Epoch 58/120\n",
      "64/93 [===================>..........] - ETA: 0s - loss: -0.8577 - dice_coef: 0.8577Epoch 00058: val_loss did not improve\n",
      "93/93 [==============================] - 2s 17ms/step - loss: -0.8549 - dice_coef: 0.8549 - val_loss: -0.8559 - val_dice_coef: 0.8559\n",
      "Epoch 59/120\n",
      "64/93 [===================>..........] - ETA: 0s - loss: -0.8771 - dice_coef: 0.8771Epoch 00059: val_loss did not improve\n",
      "93/93 [==============================] - 2s 17ms/step - loss: -0.8489 - dice_coef: 0.8489 - val_loss: -0.8665 - val_dice_coef: 0.8665\n",
      "Epoch 60/120\n",
      "64/93 [===================>..........] - ETA: 0s - loss: -0.8450 - dice_coef: 0.8450Epoch 00060: val_loss did not improve\n",
      "93/93 [==============================] - 2s 17ms/step - loss: -0.8484 - dice_coef: 0.8484 - val_loss: -0.8625 - val_dice_coef: 0.8625\n",
      "Epoch 61/120\n",
      "64/93 [===================>..........] - ETA: 0s - loss: -0.8484 - dice_coef: 0.8484Epoch 00061: val_loss did not improve\n",
      "93/93 [==============================] - 2s 17ms/step - loss: -0.8539 - dice_coef: 0.8539 - val_loss: -0.8581 - val_dice_coef: 0.8581\n",
      "Epoch 62/120\n",
      "64/93 [===================>..........] - ETA: 0s - loss: -0.8287 - dice_coef: 0.8287Epoch 00062: val_loss did not improve\n",
      "93/93 [==============================] - 2s 17ms/step - loss: -0.8484 - dice_coef: 0.8484 - val_loss: -0.8662 - val_dice_coef: 0.8662\n",
      "Epoch 63/120\n",
      "64/93 [===================>..........] - ETA: 0s - loss: -0.8561 - dice_coef: 0.8561Epoch 00063: val_loss improved from -0.86732 to -0.87229, saving model to model_256_claras_with_dice.h5\n",
      "93/93 [==============================] - 2s 18ms/step - loss: -0.8581 - dice_coef: 0.8581 - val_loss: -0.8723 - val_dice_coef: 0.8723\n",
      "Epoch 64/120\n",
      "64/93 [===================>..........] - ETA: 0s - loss: -0.8591 - dice_coef: 0.8591Epoch 00064: val_loss improved from -0.87229 to -0.87415, saving model to model_256_claras_with_dice.h5\n",
      "93/93 [==============================] - 2s 18ms/step - loss: -0.8550 - dice_coef: 0.8550 - val_loss: -0.8741 - val_dice_coef: 0.8741\n",
      "Epoch 65/120\n",
      "64/93 [===================>..........] - ETA: 0s - loss: -0.8493 - dice_coef: 0.8493Epoch 00065: val_loss did not improve\n",
      "93/93 [==============================] - 2s 17ms/step - loss: -0.8583 - dice_coef: 0.8583 - val_loss: -0.8702 - val_dice_coef: 0.8702\n",
      "Epoch 66/120\n",
      "64/93 [===================>..........] - ETA: 0s - loss: -0.8760 - dice_coef: 0.8760Epoch 00066: val_loss did not improve\n",
      "93/93 [==============================] - 2s 17ms/step - loss: -0.8576 - dice_coef: 0.8576 - val_loss: -0.8691 - val_dice_coef: 0.8691\n",
      "Epoch 67/120\n",
      "64/93 [===================>..........] - ETA: 0s - loss: -0.8504 - dice_coef: 0.8504Epoch 00067: val_loss improved from -0.87415 to -0.87459, saving model to model_256_claras_with_dice.h5\n",
      "93/93 [==============================] - 2s 18ms/step - loss: -0.8571 - dice_coef: 0.8571 - val_loss: -0.8746 - val_dice_coef: 0.8746\n",
      "Epoch 68/120\n",
      "64/93 [===================>..........] - ETA: 0s - loss: -0.8765 - dice_coef: 0.8765Epoch 00068: val_loss did not improve\n",
      "93/93 [==============================] - 2s 17ms/step - loss: -0.8605 - dice_coef: 0.8605 - val_loss: -0.8727 - val_dice_coef: 0.8727\n",
      "Epoch 69/120\n",
      "64/93 [===================>..........] - ETA: 0s - loss: -0.8564 - dice_coef: 0.8564Epoch 00069: val_loss did not improve\n",
      "93/93 [==============================] - 2s 17ms/step - loss: -0.8657 - dice_coef: 0.8657 - val_loss: -0.8632 - val_dice_coef: 0.8632\n",
      "Epoch 70/120\n",
      "64/93 [===================>..........] - ETA: 0s - loss: -0.8553 - dice_coef: 0.8553Epoch 00070: val_loss did not improve\n",
      "93/93 [==============================] - 2s 17ms/step - loss: -0.8641 - dice_coef: 0.8641 - val_loss: -0.8738 - val_dice_coef: 0.8738\n",
      "Epoch 71/120\n",
      "64/93 [===================>..........] - ETA: 0s - loss: -0.8581 - dice_coef: 0.8581Epoch 00071: val_loss did not improve\n",
      "93/93 [==============================] - 2s 17ms/step - loss: -0.8664 - dice_coef: 0.8664 - val_loss: -0.8738 - val_dice_coef: 0.8738\n",
      "Epoch 72/120\n",
      "64/93 [===================>..........] - ETA: 0s - loss: -0.8623 - dice_coef: 0.8623Epoch 00072: val_loss did not improve\n",
      "93/93 [==============================] - 2s 17ms/step - loss: -0.8655 - dice_coef: 0.8655 - val_loss: -0.8681 - val_dice_coef: 0.8681\n",
      "Epoch 73/120\n",
      "64/93 [===================>..........] - ETA: 0s - loss: -0.8759 - dice_coef: 0.8759Epoch 00073: val_loss did not improve\n",
      "93/93 [==============================] - 2s 17ms/step - loss: -0.8651 - dice_coef: 0.8651 - val_loss: -0.8727 - val_dice_coef: 0.8727\n",
      "Epoch 74/120\n",
      "64/93 [===================>..........] - ETA: 0s - loss: -0.8527 - dice_coef: 0.8527Epoch 00074: val_loss did not improve\n",
      "93/93 [==============================] - 2s 17ms/step - loss: -0.8650 - dice_coef: 0.8650 - val_loss: -0.8526 - val_dice_coef: 0.8526\n",
      "Epoch 75/120\n",
      "64/93 [===================>..........] - ETA: 0s - loss: -0.8525 - dice_coef: 0.8525Epoch 00075: val_loss did not improve\n",
      "93/93 [==============================] - 2s 17ms/step - loss: -0.8615 - dice_coef: 0.8615 - val_loss: -0.8741 - val_dice_coef: 0.8741\n",
      "Epoch 76/120\n",
      "64/93 [===================>..........] - ETA: 0s - loss: -0.8608 - dice_coef: 0.8608Epoch 00076: val_loss did not improve\n",
      "93/93 [==============================] - 2s 17ms/step - loss: -0.8514 - dice_coef: 0.8514 - val_loss: -0.8611 - val_dice_coef: 0.8611\n",
      "Epoch 77/120\n",
      "64/93 [===================>..........] - ETA: 0s - loss: -0.8633 - dice_coef: 0.8633Epoch 00077: val_loss did not improve\n",
      "93/93 [==============================] - 2s 17ms/step - loss: -0.8554 - dice_coef: 0.8554 - val_loss: -0.8673 - val_dice_coef: 0.8673\n",
      "Epoch 78/120\n",
      "64/93 [===================>..........] - ETA: 0s - loss: -0.8525 - dice_coef: 0.8525Epoch 00078: val_loss did not improve\n",
      "93/93 [==============================] - 2s 17ms/step - loss: -0.8572 - dice_coef: 0.8572 - val_loss: -0.8720 - val_dice_coef: 0.8720\n",
      "Epoch 79/120\n",
      "64/93 [===================>..........] - ETA: 0s - loss: -0.8480 - dice_coef: 0.8480Epoch 00079: val_loss did not improve\n",
      "93/93 [==============================] - 2s 17ms/step - loss: -0.8609 - dice_coef: 0.8609 - val_loss: -0.8690 - val_dice_coef: 0.8690\n",
      "Epoch 80/120\n",
      "64/93 [===================>..........] - ETA: 0s - loss: -0.8557 - dice_coef: 0.8557Epoch 00080: val_loss improved from -0.87459 to -0.88096, saving model to model_256_claras_with_dice.h5\n",
      "93/93 [==============================] - 2s 18ms/step - loss: -0.8628 - dice_coef: 0.8628 - val_loss: -0.8810 - val_dice_coef: 0.8810\n",
      "Epoch 81/120\n",
      "64/93 [===================>..........] - ETA: 0s - loss: -0.8646 - dice_coef: 0.8646Epoch 00081: val_loss did not improve\n",
      "93/93 [==============================] - 2s 17ms/step - loss: -0.8634 - dice_coef: 0.8634 - val_loss: -0.8728 - val_dice_coef: 0.8728\n",
      "Epoch 82/120\n",
      "64/93 [===================>..........] - ETA: 0s - loss: -0.8515 - dice_coef: 0.8515Epoch 00082: val_loss did not improve\n",
      "93/93 [==============================] - 2s 17ms/step - loss: -0.8495 - dice_coef: 0.8495 - val_loss: -0.8556 - val_dice_coef: 0.8556\n",
      "Epoch 83/120\n",
      "64/93 [===================>..........] - ETA: 0s - loss: -0.8576 - dice_coef: 0.8576Epoch 00083: val_loss did not improve\n",
      "93/93 [==============================] - 2s 17ms/step - loss: -0.8494 - dice_coef: 0.8494 - val_loss: -0.8675 - val_dice_coef: 0.8675\n",
      "Epoch 84/120\n",
      "64/93 [===================>..........] - ETA: 0s - loss: -0.8782 - dice_coef: 0.8782Epoch 00084: val_loss did not improve\n",
      "93/93 [==============================] - 2s 17ms/step - loss: -0.8522 - dice_coef: 0.8522 - val_loss: -0.8538 - val_dice_coef: 0.8538\n",
      "Epoch 85/120\n",
      "64/93 [===================>..........] - ETA: 0s - loss: -0.8429 - dice_coef: 0.8429Epoch 00085: val_loss did not improve\n",
      "93/93 [==============================] - 2s 17ms/step - loss: -0.8510 - dice_coef: 0.8510 - val_loss: -0.8593 - val_dice_coef: 0.8593\n",
      "Epoch 86/120\n",
      "64/93 [===================>..........] - ETA: 0s - loss: -0.8579 - dice_coef: 0.8579Epoch 00086: val_loss did not improve\n",
      "93/93 [==============================] - 2s 17ms/step - loss: -0.8551 - dice_coef: 0.8551 - val_loss: -0.8695 - val_dice_coef: 0.8695\n",
      "Epoch 87/120\n",
      "64/93 [===================>..........] - ETA: 0s - loss: -0.8742 - dice_coef: 0.8742Epoch 00087: val_loss did not improve\n",
      "93/93 [==============================] - 2s 17ms/step - loss: -0.8588 - dice_coef: 0.8588 - val_loss: -0.8704 - val_dice_coef: 0.8704\n"
     ]
    },
    {
     "name": "stdout",
     "output_type": "stream",
     "text": [
      "Epoch 88/120\n",
      "64/93 [===================>..........] - ETA: 0s - loss: -0.8660 - dice_coef: 0.8660Epoch 00088: val_loss did not improve\n",
      "93/93 [==============================] - 2s 17ms/step - loss: -0.8604 - dice_coef: 0.8604 - val_loss: -0.8658 - val_dice_coef: 0.8658\n",
      "Epoch 89/120\n",
      "64/93 [===================>..........] - ETA: 0s - loss: -0.8605 - dice_coef: 0.8605Epoch 00089: val_loss did not improve\n",
      "93/93 [==============================] - 2s 17ms/step - loss: -0.8616 - dice_coef: 0.8616 - val_loss: -0.8737 - val_dice_coef: 0.8737\n",
      "Epoch 90/120\n",
      "64/93 [===================>..........] - ETA: 0s - loss: -0.8750 - dice_coef: 0.8750Epoch 00090: val_loss did not improve\n",
      "93/93 [==============================] - 2s 17ms/step - loss: -0.8633 - dice_coef: 0.8633 - val_loss: -0.8713 - val_dice_coef: 0.8713\n",
      "Epoch 91/120\n",
      "64/93 [===================>..........] - ETA: 0s - loss: -0.8606 - dice_coef: 0.8606Epoch 00091: val_loss did not improve\n",
      "93/93 [==============================] - 2s 17ms/step - loss: -0.8626 - dice_coef: 0.8626 - val_loss: -0.8741 - val_dice_coef: 0.8741\n",
      "Epoch 92/120\n",
      "64/93 [===================>..........] - ETA: 0s - loss: -0.8555 - dice_coef: 0.8555Epoch 00092: val_loss did not improve\n",
      "93/93 [==============================] - 2s 17ms/step - loss: -0.8641 - dice_coef: 0.8641 - val_loss: -0.8742 - val_dice_coef: 0.8742\n",
      "Epoch 93/120\n",
      "64/93 [===================>..........] - ETA: 0s - loss: -0.8662 - dice_coef: 0.8662Epoch 00093: val_loss did not improve\n",
      "93/93 [==============================] - 2s 17ms/step - loss: -0.8659 - dice_coef: 0.8659 - val_loss: -0.8709 - val_dice_coef: 0.8709\n",
      "Epoch 94/120\n",
      "64/93 [===================>..........] - ETA: 0s - loss: -0.8774 - dice_coef: 0.8774Epoch 00094: val_loss did not improve\n",
      "93/93 [==============================] - 2s 17ms/step - loss: -0.8667 - dice_coef: 0.8667 - val_loss: -0.8781 - val_dice_coef: 0.8781\n",
      "Epoch 95/120\n",
      "64/93 [===================>..........] - ETA: 0s - loss: -0.8671 - dice_coef: 0.8671Epoch 00095: val_loss did not improve\n",
      "93/93 [==============================] - 2s 17ms/step - loss: -0.8624 - dice_coef: 0.8624 - val_loss: -0.8787 - val_dice_coef: 0.8787\n",
      "Epoch 00095: early stopping\n"
     ]
    }
   ],
   "source": [
    "# Fit model\n",
    "earlystopper = EarlyStopping(patience=15, verbose=1)\n",
    "checkpointer = ModelCheckpoint('model_256_claras_with_dice.h5', verbose=1, save_best_only=True)\n",
    "results = model.fit(X_tr_gray, y_tr_cla, validation_data=(X_te_gray, y_te_cla), batch_size=32, epochs=120, \n",
    "                    callbacks=[earlystopper, checkpointer])\n",
    "# model.fit_generator(aug, epochs=25, steps_per_epoch=50,\n",
    "#                          validation_data=(X_te_gray, y_te_cla), callbacks=[earlystopper, checkpointer])"
   ]
  },
  {
   "cell_type": "code",
   "execution_count": 175,
   "metadata": {
    "collapsed": true
   },
   "outputs": [],
   "source": [
    "model.load_weights('./model_256_claras_with_dice.h5')"
   ]
  },
  {
   "cell_type": "code",
   "execution_count": 176,
   "metadata": {},
   "outputs": [
    {
     "name": "stdout",
     "output_type": "stream",
     "text": [
      "\r",
      "31/31 [==============================] - 0s 3ms/step\n"
     ]
    }
   ],
   "source": [
    "y_prev_cla = model.predict(X_te_gray, verbose=1)"
   ]
  },
  {
   "cell_type": "code",
   "execution_count": 177,
   "metadata": {
    "collapsed": true
   },
   "outputs": [],
   "source": [
    "def show(index, img, cmap='jet'):\n",
    "    plt.figure(figsize=(10,10))\n",
    "    plt.imshow(img[:][index], cmap=cmap)\n",
    "    plt.colorbar()\n",
    "    plt.show()\n",
    "    \n",
    "def display_images(index, img, prev, mask):\n",
    "    # Create a figure with two subplots and the specified size.\n",
    "    plt.subplots(1,3,figsize=(15,12))\n",
    "    \n",
    "    # Draw the fixed image in the first subplot.\n",
    "    plt.subplot(1,3,1)\n",
    "    plt.imshow(img[index],cmap='jet');\n",
    "    plt.title('vol')\n",
    "    plt.axis('off')\n",
    "    \n",
    "    # Draw the moving image in the second subplot.\n",
    "    plt.subplot(1,3,2)\n",
    "    plt.imshow(prev[:,:,:,0][index] > 0.5,cmap='jet');\n",
    "    plt.title('predicted')\n",
    "    plt.axis('off')\n",
    "    \n",
    "    plt.subplot(1,3,3)\n",
    "    plt.imshow(mask[:,:,:,0][index],cmap='jet');\n",
    "    plt.title('mask')\n",
    "    plt.axis('off')\n",
    "    \n",
    "    print (dice(mask[:,:,:,0][index], prev[:,:,:,0][index]>0.40))\n",
    "    plt.show()"
   ]
  },
  {
   "cell_type": "code",
   "execution_count": 178,
   "metadata": {
    "scrolled": true
   },
   "outputs": [
    {
     "data": {
      "application/vnd.jupyter.widget-view+json": {
       "model_id": "0c107e8d7359449fa7e0cc900fb6d27b"
      }
     },
     "metadata": {},
     "output_type": "display_data"
    },
    {
     "data": {
      "text/plain": [
       "<function __main__.display_images>"
      ]
     },
     "execution_count": 178,
     "metadata": {},
     "output_type": "execute_result"
    }
   ],
   "source": [
    "interact(display_images, index = (0, len(X_te_cla)-1),img=fixed(X_te_cla), prev=fixed(y_prev_cla), mask = fixed(y_te_cla))"
   ]
  },
  {
   "cell_type": "code",
   "execution_count": 187,
   "metadata": {},
   "outputs": [],
   "source": [
    "dices_claras = []\n",
    "for i in range(len(X_te_cla)):\n",
    "    dices_claras.append(dice(y_prev_cla[i] > .45, y_te_cla[i]))\n",
    "dices_claras = np.array(dices_claras)"
   ]
  },
  {
   "cell_type": "code",
   "execution_count": 188,
   "metadata": {},
   "outputs": [
    {
     "name": "stdout",
     "output_type": "stream",
     "text": [
      "Average dice:  0.822146790236\n",
      "Worst dice:  0.43465657957\n",
      "Best dice:  0.934122653368\n",
      "Median:  0.880180643415\n"
     ]
    }
   ],
   "source": [
    "print 'Average dice: ', np.mean(dices_claras)\n",
    "print 'Worst dice: ', np.min(dices_claras)\n",
    "print 'Best dice: ', np.max(dices_claras)\n",
    "print 'Median: ', np.median(dices_claras)"
   ]
  },
  {
   "cell_type": "markdown",
   "metadata": {},
   "source": [
    "## Vamo fazer nossa primeira submissão"
   ]
  },
  {
   "cell_type": "code",
   "execution_count": 189,
   "metadata": {
    "collapsed": true
   },
   "outputs": [],
   "source": [
    "from evaluation import rle_encoding, prob_to_rles"
   ]
  },
  {
   "cell_type": "code",
   "execution_count": 205,
   "metadata": {},
   "outputs": [
    {
     "data": {
      "application/vnd.jupyter.widget-view+json": {
       "model_id": "8ee7cd8428a34f9ab9400dc89e8c4c5c"
      }
     },
     "metadata": {},
     "output_type": "display_data"
    },
    {
     "data": {
      "text/plain": [
       "<function __main__.show>"
      ]
     },
     "execution_count": 205,
     "metadata": {},
     "output_type": "execute_result"
    }
   ],
   "source": [
    "interact(show, index = (0, len(X_test)), img=fixed(X_test))"
   ]
  },
  {
   "cell_type": "code",
   "execution_count": 202,
   "metadata": {},
   "outputs": [
    {
     "data": {
      "text/plain": [
       "{'Clara': array([ 1,  4,  8, 18, 27, 28, 31, 40, 44, 48, 58, 62]),\n",
       " 'Escura': array([ 0,  2,  3,  5,  6,  7,  9, 10, 11, 12, 13, 14, 15, 16, 17, 19, 20,\n",
       "        21, 22, 23, 24, 25, 26, 29, 30, 32, 33, 34, 35, 36, 37, 38, 39, 41,\n",
       "        42, 43, 45, 46, 47, 49, 50, 51, 52, 53, 54, 55, 56, 57, 59, 60, 61,\n",
       "        63, 64])}"
      ]
     },
     "execution_count": 202,
     "metadata": {},
     "output_type": "execute_result"
    }
   ],
   "source": [
    "dict_test"
   ]
  },
  {
   "cell_type": "code",
   "execution_count": 213,
   "metadata": {},
   "outputs": [],
   "source": [
    "## Preparing img for each case\n",
    "teste_claras = []\n",
    "for img in X_test[dict_test['Clara']]:\n",
    "    teste_claras.append(rgb2gray(img))\n",
    "teste_claras = pre_reshape(np.array(teste_claras))\n",
    "teste_escuras = pre_reshape(X_test[dict_test['Escura']])"
   ]
  },
  {
   "cell_type": "code",
   "execution_count": 206,
   "metadata": {
    "collapsed": true
   },
   "outputs": [],
   "source": [
    "model = get_unet(IMG_CHANNELS=3, IMG_HEIGHT=256, IMG_WIDTH=256)"
   ]
  },
  {
   "cell_type": "code",
   "execution_count": 207,
   "metadata": {
    "collapsed": true
   },
   "outputs": [],
   "source": [
    "model.load_weights('./model_256_escuras_with_dice.h5')"
   ]
  },
  {
   "cell_type": "code",
   "execution_count": 208,
   "metadata": {
    "collapsed": true
   },
   "outputs": [],
   "source": [
    "model2 = get_unet_grayscale(IMG_CHANNELS=1, IMG_HEIGHT=256, IMG_WIDTH=256)"
   ]
  },
  {
   "cell_type": "code",
   "execution_count": 209,
   "metadata": {
    "collapsed": true
   },
   "outputs": [],
   "source": [
    "model2.load_weights('./model_256_claras_with_dice.h5')"
   ]
  },
  {
   "cell_type": "code",
   "execution_count": 216,
   "metadata": {},
   "outputs": [
    {
     "name": "stdout",
     "output_type": "stream",
     "text": [
      "53/53 [==============================] - 1s 19ms/step\n",
      "12/12 [==============================] - 1s 62ms/step\n"
     ]
    }
   ],
   "source": [
    "prev_escuras = model.predict(teste_escuras, verbose=1)\n",
    "prev_claras = model2.predict(teste_claras, verbose=1)"
   ]
  },
  {
   "cell_type": "code",
   "execution_count": 218,
   "metadata": {},
   "outputs": [],
   "source": [
    "prev_escuras  = (prev_escuras > 0.5).astype(np.uint8)\n",
    "prev_claras  = (prev_claras > 0.5).astype(np.uint8)"
   ]
  },
  {
   "cell_type": "code",
   "execution_count": 219,
   "metadata": {},
   "outputs": [
    {
     "data": {
      "application/vnd.jupyter.widget-view+json": {
       "model_id": "01b0a556e8ac491885def4225ae1dd29"
      }
     },
     "metadata": {},
     "output_type": "display_data"
    },
    {
     "data": {
      "text/plain": [
       "<function __main__.display_images>"
      ]
     },
     "execution_count": 219,
     "metadata": {},
     "output_type": "execute_result"
    }
   ],
   "source": [
    "interact(display_images, index = (0, len(X_test[dict_test['Escura']])-1), img=fixed(X_test[dict_test['Escura']]), prev=fixed(prev_escuras), mask = fixed(prev_escuras))"
   ]
  },
  {
   "cell_type": "code",
   "execution_count": 221,
   "metadata": {},
   "outputs": [
    {
     "data": {
      "application/vnd.jupyter.widget-view+json": {
       "model_id": "33dc87c58d82422e840bd5bff0a71368"
      }
     },
     "metadata": {},
     "output_type": "display_data"
    },
    {
     "data": {
      "text/plain": [
       "<function __main__.display_images>"
      ]
     },
     "execution_count": 221,
     "metadata": {},
     "output_type": "execute_result"
    }
   ],
   "source": [
    "interact(display_images, index = (0, len(X_test[dict_test['Clara']])-1), img=fixed(X_test[dict_test['Clara']]), prev=fixed(prev_claras), mask = fixed(prev_claras))"
   ]
  },
  {
   "cell_type": "code",
   "execution_count": 228,
   "metadata": {},
   "outputs": [],
   "source": [
    "all_prevs = np.zeros((len(X_test),256,256,1))\n",
    "all_prevs[dict_test['Clara']] = prev_claras\n",
    "all_prevs[dict_test['Escura']] = prev_escuras"
   ]
  },
  {
   "cell_type": "code",
   "execution_count": 230,
   "metadata": {},
   "outputs": [
    {
     "data": {
      "application/vnd.jupyter.widget-view+json": {
       "model_id": "e00bcc90189e4710be5395eb1a41c31e"
      }
     },
     "metadata": {},
     "output_type": "display_data"
    },
    {
     "data": {
      "text/plain": [
       "<function __main__.display_images>"
      ]
     },
     "execution_count": 230,
     "metadata": {},
     "output_type": "execute_result"
    }
   ],
   "source": [
    "interact(display_images, index = (0, len(X_test)-1), img=fixed(X_test), prev=fixed(all_prevs), mask = fixed(all_prevs))"
   ]
  },
  {
   "cell_type": "code",
   "execution_count": 231,
   "metadata": {
    "collapsed": true
   },
   "outputs": [],
   "source": [
    "from skimage.transform import resize"
   ]
  },
  {
   "cell_type": "code",
   "execution_count": 237,
   "metadata": {
    "collapsed": true
   },
   "outputs": [],
   "source": [
    "# Run-length encoding stolen from https://www.kaggle.com/rakhlin/fast-run-length-encoding-python\n",
    "def rle_encoding(x):\n",
    "    dots = np.where(x.T.flatten() == 1)[0]\n",
    "    run_lengths = []\n",
    "    prev = -2\n",
    "    for b in dots:\n",
    "        if (b>prev+1): run_lengths.extend((b + 1, 0))\n",
    "        run_lengths[-1] += 1\n",
    "        prev = b\n",
    "    return run_lengths\n",
    "\n",
    "def prob_to_rles(x, cutoff=0.5):\n",
    "    lab_img = label(x > cutoff)\n",
    "    for i in range(1, lab_img.max() + 1):\n",
    "        yield rle_encoding(lab_img == i)"
   ]
  },
  {
   "cell_type": "code",
   "execution_count": 234,
   "metadata": {},
   "outputs": [],
   "source": [
    "# Create list of upsampled test masks\n",
    "preds_test_upsampled = []\n",
    "for i in range(len(all_prevs)):\n",
    "    preds_test_upsampled.append(resize(np.squeeze(all_prevs[i]), \n",
    "                                       (sizes_test[i][0], sizes_test[i][1]), \n",
    "                                       mode='constant', preserve_range=True))"
   ]
  },
  {
   "cell_type": "code",
   "execution_count": 238,
   "metadata": {},
   "outputs": [],
   "source": [
    "new_test_ids = []\n",
    "rles = []\n",
    "for n, id_ in enumerate(test_ids):\n",
    "    rle = list(prob_to_rles(preds_test_upsampled[n]))\n",
    "    rles.extend(rle)\n",
    "    new_test_ids.extend([id_] * len(rle))"
   ]
  },
  {
   "cell_type": "code",
   "execution_count": 239,
   "metadata": {
    "collapsed": true
   },
   "outputs": [],
   "source": [
    "# Create submission DataFrame\n",
    "sub = pd.DataFrame()\n",
    "sub['ImageId'] = new_test_ids\n",
    "sub['EncodedPixels'] = pd.Series(rles).apply(lambda x: ' '.join(str(y) for y in x))\n",
    "sub.to_csv('Primeira_UNET.csv', index=False)"
   ]
  },
  {
   "cell_type": "code",
   "execution_count": null,
   "metadata": {
    "collapsed": true
   },
   "outputs": [],
   "source": []
  }
 ],
 "metadata": {
  "kernelspec": {
   "display_name": "Python 2",
   "language": "python",
   "name": "python2"
  },
  "language_info": {
   "codemirror_mode": {
    "name": "ipython",
    "version": 2
   },
   "file_extension": ".py",
   "mimetype": "text/x-python",
   "name": "python",
   "nbconvert_exporter": "python",
   "pygments_lexer": "ipython2",
   "version": "2.7.12"
  }
 },
 "nbformat": 4,
 "nbformat_minor": 2
}
